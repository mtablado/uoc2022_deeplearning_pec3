{
  "nbformat": 4,
  "nbformat_minor": 0,
  "metadata": {
    "colab": {
      "name": "2021-2_M2.875_PEC3_Enunciado.ipynb",
      "provenance": [],
      "collapsed_sections": [
        "YO1mZRrP4FT2"
      ]
    },
    "kernelspec": {
      "name": "python3",
      "display_name": "Python 3"
    },
    "language_info": {
      "name": "python"
    },
    "accelerator": "GPU"
  },
  "cells": [
    {
      "cell_type": "code",
      "source": [
        ""
      ],
      "metadata": {
        "id": "vzfQ__zQ62mC"
      },
      "execution_count": null,
      "outputs": []
    },
    {
      "cell_type": "markdown",
      "metadata": {
        "id": "YO1mZRrP4FT2"
      },
      "source": [
        "<div style=\"width: 100%; clear: both;\">\n",
        "<div style=\"float: left; width: 50%;\">\n",
        "<img src=\"http://www.uoc.edu/portal/_resources/common/imatges/marca_UOC/UOC_Masterbrand.jpg\", align=\"left\">\n",
        "</div>\n",
        "<div style=\"float: right; width: 50%;\">\n",
        "<p style=\"margin: 0; padding-top: 22px; text-align:right;\">M2.875 · Deep Learning · PEC3\n",
        "</p>\n",
        "<p style=\"margin: 0; text-align:right;\">2021-2 · Máster universitario en Ciencia de datos (Data science)</p>\n",
        "<p style=\"margin: 0; text-align:right; padding-button: 100px;\">Estudios de Informática, Multimedia y Telecomunicación</p>\n",
        "</div>\n",
        "</div>\n",
        "<div style=\"width:100%;\">&nbsp;</div>\n",
        "\n",
        "\n",
        "# PEC 3: Recurrent Neural Networks\n",
        "\n",
        "En esta práctica implementaremos redes neuronales recurrentes para generar música.\n",
        "\n",
        "**Importante: La entrega debe hacerse en formato notebook y en formato html donde se vea el código y los resultados y comentarios de cada ejercicio. Para exportar el notebook a html puede hacerse desde el menú File $\\to$ Download as $\\to$ HTML.**"
      ]
    },
    {
      "cell_type": "markdown",
      "source": [
        "# 0. Contexto y referencias"
      ],
      "metadata": {
        "id": "8rXYszqtPC3X"
      }
    },
    {
      "cell_type": "markdown",
      "source": [
        "Esta PEC está basada en el siguiente [artículo de investigación](https://arxiv.org/pdf/1711.07682.pdf), aunque por motivos de extensión no podremos pasar por todos los puntos del artículo.\n",
        "\n",
        "La primera etapa de esta PEC será leer y entender la idea general de este trabajo. El artículo os da acceso al código original con el que se ha llevado a cabo el trabajo y en el que además esta basado gran parte del código que aquí os adjuntamos, aunque por la complejidad y extensión del código no os recomendamos que sumergáis demasiado en él.\n",
        "\n",
        "La PEC consta de una etapa de ***interpretación de los datos*** (un paso vital en todo proyecto real), donde se pedirá reproducir una gráfica del artículo. Luego ***entrenaremos*** una red LSTM para generar acordes a partir de archivos MIDI. Finalmente, usaremos la capa de ***embedding*** de la red entrenada para hacer una proyección de los acordes en 2D y visualizar el concepto de [word2vec](https://en.wikipedia.org/wiki/Word2vec)."
      ],
      "metadata": {
        "id": "23HcctV9PHD8"
      }
    },
    {
      "cell_type": "markdown",
      "source": [
        "Además de este fichero os hemos adjuntado un archivo comprimido con una estructura de datos similar a la usada en el artículo y que os recomendamos (por vuestro bien) que no modifiquéis :). Allí encontraréis una carpeta llamada *data* donde se encuentra la base de datos que usaremos y otros ficheros que os facilitamos con datos de redes ya entrenadas (en la carpeta *models*)"
      ],
      "metadata": {
        "id": "yAJEhzrBUoNj"
      }
    },
    {
      "cell_type": "markdown",
      "source": [
        "# 1. Procesado de datos [2.5 pts]"
      ],
      "metadata": {
        "id": "TNeJCTqGN6M0"
      }
    },
    {
      "cell_type": "markdown",
      "source": [
        "## 1.1 Importación de módulos y paquetes necesarios"
      ],
      "metadata": {
        "id": "HFZhc-3gh3BA"
      }
    },
    {
      "cell_type": "code",
      "execution_count": 1,
      "metadata": {
        "id": "kC_lb6hDNJD8",
        "colab": {
          "base_uri": "https://localhost:8080/"
        },
        "outputId": "5a8b54bc-e9d0-4d79-ef37-ba05d4ceb808"
      },
      "outputs": [
        {
          "output_type": "stream",
          "name": "stdout",
          "text": [
            "Collecting pretty_midi==0.2.8\n",
            "  Downloading pretty_midi-0.2.8.tar.gz (5.6 MB)\n",
            "\u001b[K     |████████████████████████████████| 5.6 MB 4.6 MB/s \n",
            "\u001b[?25hRequirement already satisfied: numpy>=1.7.0 in /usr/local/lib/python3.7/dist-packages (from pretty_midi==0.2.8) (1.21.6)\n",
            "Collecting mido>=1.1.16\n",
            "  Downloading mido-1.2.10-py2.py3-none-any.whl (51 kB)\n",
            "\u001b[K     |████████████████████████████████| 51 kB 4.1 MB/s \n",
            "\u001b[?25hRequirement already satisfied: six in /usr/local/lib/python3.7/dist-packages (from pretty_midi==0.2.8) (1.15.0)\n",
            "Building wheels for collected packages: pretty-midi\n",
            "  Building wheel for pretty-midi (setup.py) ... \u001b[?25l\u001b[?25hdone\n",
            "  Created wheel for pretty-midi: filename=pretty_midi-0.2.8-py3-none-any.whl size=5590821 sha256=44c85daea020b479f688a939e5bb101f9c92504e99776d43b913ce7ba91393ea\n",
            "  Stored in directory: /root/.cache/pip/wheels/53/fd/dd/20e1b16dbcf028bbbd7f53b570bc3521183731cba4a73cb310\n",
            "Successfully built pretty-midi\n",
            "Installing collected packages: mido, pretty-midi\n",
            "Successfully installed mido-1.2.10 pretty-midi-0.2.8\n"
          ]
        }
      ],
      "source": [
        "!pip install pretty_midi==0.2.8"
      ]
    },
    {
      "cell_type": "code",
      "source": [
        "from google.colab import drive\n",
        "drive.mount('/content/drive')"
      ],
      "metadata": {
        "id": "8Dho4VBiNX22",
        "colab": {
          "base_uri": "https://localhost:8080/"
        },
        "outputId": "25736cb8-9e72-4d2b-a6b9-4de392fa30d5"
      },
      "execution_count": 2,
      "outputs": [
        {
          "output_type": "stream",
          "name": "stdout",
          "text": [
            "Mounted at /content/drive\n"
          ]
        }
      ]
    },
    {
      "cell_type": "code",
      "source": [
        "# añade el path a tu directorio\n",
        "%cd /content/drive/My Drive/deep_learning/PEC3_PAC3"
      ],
      "metadata": {
        "id": "47q84NyONZf_",
        "colab": {
          "base_uri": "https://localhost:8080/"
        },
        "outputId": "a022d7ca-8b9c-45a1-adb8-af01dc6ececd"
      },
      "execution_count": 3,
      "outputs": [
        {
          "output_type": "stream",
          "name": "stdout",
          "text": [
            "/content/drive/My Drive/deep_learning/PEC3_PAC3\n"
          ]
        }
      ]
    },
    {
      "cell_type": "code",
      "source": [
        "import numpy as np\n",
        "import matplotlib.pyplot as plt\n",
        "import _pickle as pickle\n",
        "import os\n",
        "import sys\n",
        "import pretty_midi as pm\n",
        "import mido\n",
        "from collections import Counter\n",
        "import collections\n",
        "import pandas as pd"
      ],
      "metadata": {
        "id": "-aQnhJf8OVia"
      },
      "execution_count": 4,
      "outputs": []
    },
    {
      "cell_type": "markdown",
      "source": [
        "importamos módulos propios (archivos .py) que podréis encontrar en la estructura de carpetas que os hemos facilitado"
      ],
      "metadata": {
        "id": "bqTy38QPXdz8"
      }
    },
    {
      "cell_type": "code",
      "source": [
        "from settings import *\n",
        "import midi_functions as mf \n",
        "import data_processing_functions as dpf"
      ],
      "metadata": {
        "id": "A8hOlwmbXdGD"
      },
      "execution_count": 5,
      "outputs": []
    },
    {
      "cell_type": "markdown",
      "source": [
        "## 1.2 Ficheros MIDI [1 pt]"
      ],
      "metadata": {
        "id": "d457Myp0iAC6"
      }
    },
    {
      "cell_type": "markdown",
      "source": [
        "En esta sección vamos a entender un poco mejor la información que contiene un fichero MIDI y reproduciremos un archivo de nuestra base de datos. Para esta sección os recomendamos que le echéis un vistazo a la sección \"*Extract notes*\" del siguiente [tutorial de tensorflow](https://www.tensorflow.org/tutorials/audio/music_generation)."
      ],
      "metadata": {
        "id": "OkBli7noiYXJ"
      }
    },
    {
      "cell_type": "markdown",
      "source": [
        "1.2.1 Escoger un fichero MIDI de la base de datos y crear las funciones necesarias para extraer las notas, el tiempo en que se toca cada nota, su duración y el momento en que se tocan. Este proceso se debe aplicar solo a un instrumento: **\"Acoustic Grand Piano\"**. \n",
        "\n",
        "*nota: Si el fichero escogido no tiene piano elegir otro fichero*"
      ],
      "metadata": {
        "id": "QWjhouM0kHcD"
      }
    },
    {
      "cell_type": "code",
      "source": [
        "import glob"
      ],
      "metadata": {
        "id": "9I68VS35Q0mX"
      },
      "execution_count": 6,
      "outputs": []
    },
    {
      "cell_type": "code",
      "source": [
        "FILE_PATH = './data/original/'\n",
        "PIANO_PROGRAM_NAME = 'Acoustic Grand Piano'\n",
        "# Get the 'Acoustic Grand Piano' program int value from INSTRUMENT_MAP constant\n",
        "PIANO_PROGRAM = pm.constants.INSTRUMENT_MAP.index(PIANO_PROGRAM_NAME)\n",
        "\n",
        "def search_midi_with_piano(file_path: str):\n",
        "  \"\"\"Searches a midi file that contains 'Acoustic Grand Piano' instrument.\n",
        "  NOTE: It is known that the directory contains several files that \n",
        "  match the criteria\n",
        "\n",
        "  Returns\n",
        "  -------\n",
        "  midi : PrettyMidi\n",
        "          MIDI file object found.\n",
        "  \"\"\"\n",
        "  filenames = glob.glob(file_path + '*.mid*')\n",
        "  print('Number of files:', len(filenames))\n",
        "\n",
        "  for file in filenames:\n",
        "    print('Checking file:' + file)\n",
        "    midi = pm.PrettyMIDI(file)    \n",
        "    if has_program(midi, PIANO_PROGRAM):\n",
        "      print('Selected file:' + file)\n",
        "      return midi\n",
        "\n",
        "def has_program(midi: pm.PrettyMIDI, program: int):\n",
        "  \"\"\"Checks whether if the program is in the list of MIDI instruments\n",
        "  \"\"\"\n",
        "  for i in midi.instruments:\n",
        "    if i.program == program:\n",
        "      return True\n",
        "  return False\n",
        "\n",
        "\n",
        "def get_instrument(midi: pm.PrettyMIDI, program: int):\n",
        "  \"\"\"Returns the instrument with the specified program in a MIDI file\n",
        "\n",
        "  Returns\n",
        "  -------\n",
        "  instrument : Instrument\n",
        "          Instrument with the specified program.\n",
        "  \"\"\"\n",
        "  for i in midi.instruments:\n",
        "    if i.program == program:\n",
        "      return i\n",
        "  raise(Exception('Program not found'))\n",
        "\n",
        "midi = search_midi_with_piano(FILE_PATH)\n",
        "piano = get_instrument(midi, PIANO_PROGRAM)"
      ],
      "metadata": {
        "id": "enL4QSw0CW2l",
        "colab": {
          "base_uri": "https://localhost:8080/"
        },
        "outputId": "3f2e5d23-e706-4f5f-8941-598b48cfefe9"
      },
      "execution_count": 7,
      "outputs": [
        {
          "output_type": "stream",
          "name": "stdout",
          "text": [
            "Number of files: 49\n",
            "Checking file:./data/original/5dd29e99ed7bd3cc0c5177a6e9de22ea.mid\n",
            "Selected file:./data/original/5dd29e99ed7bd3cc0c5177a6e9de22ea.mid\n"
          ]
        }
      ]
    },
    {
      "cell_type": "code",
      "source": [
        "def midi_to_notes(instrument: pm.Instrument) -> pd.DataFrame:\n",
        "  notes = collections.defaultdict(list)\n",
        "\n",
        "  # Sort the notes by start time\n",
        "  sorted_notes = sorted(instrument.notes, key=lambda note: note.start)\n",
        "  prev_start = sorted_notes[0].start\n",
        "\n",
        "  for note in sorted_notes:\n",
        "    start = note.start\n",
        "    end = note.end\n",
        "    notes['tono'].append(note.pitch)\n",
        "    notes['inicio'].append(start)\n",
        "    notes['fin'].append(end)\n",
        "    notes['momento'].append(start - prev_start)\n",
        "    notes['duracion'].append(end - start)\n",
        "    prev_start = start\n",
        "\n",
        "  return pd.DataFrame({name: np.array(value) for name, value in notes.items()})\n",
        "\n",
        "raw_notes = midi_to_notes(piano)\n",
        "raw_notes.head()\n"
      ],
      "metadata": {
        "colab": {
          "base_uri": "https://localhost:8080/",
          "height": 206
        },
        "id": "Nf6aE0-witgO",
        "outputId": "5fdd0c3e-da3b-40ed-ce01-3b558e143bed"
      },
      "execution_count": 8,
      "outputs": [
        {
          "output_type": "execute_result",
          "data": {
            "text/plain": [
              "   tono    inicio       fin   momento  duracion\n",
              "0    65  1.983468  2.063013  0.000000  0.079545\n",
              "1    69  1.983468  2.063013  0.000000  0.079545\n",
              "2    35  1.983468  2.072311  0.000000  0.088843\n",
              "3    35  2.148757  2.233468  0.165289  0.084711\n",
              "4    69  2.148757  2.234501  0.000000  0.085744"
            ],
            "text/html": [
              "\n",
              "  <div id=\"df-27999541-0dbf-4f4b-9862-d17cc80d369c\">\n",
              "    <div class=\"colab-df-container\">\n",
              "      <div>\n",
              "<style scoped>\n",
              "    .dataframe tbody tr th:only-of-type {\n",
              "        vertical-align: middle;\n",
              "    }\n",
              "\n",
              "    .dataframe tbody tr th {\n",
              "        vertical-align: top;\n",
              "    }\n",
              "\n",
              "    .dataframe thead th {\n",
              "        text-align: right;\n",
              "    }\n",
              "</style>\n",
              "<table border=\"1\" class=\"dataframe\">\n",
              "  <thead>\n",
              "    <tr style=\"text-align: right;\">\n",
              "      <th></th>\n",
              "      <th>tono</th>\n",
              "      <th>inicio</th>\n",
              "      <th>fin</th>\n",
              "      <th>momento</th>\n",
              "      <th>duracion</th>\n",
              "    </tr>\n",
              "  </thead>\n",
              "  <tbody>\n",
              "    <tr>\n",
              "      <th>0</th>\n",
              "      <td>65</td>\n",
              "      <td>1.983468</td>\n",
              "      <td>2.063013</td>\n",
              "      <td>0.000000</td>\n",
              "      <td>0.079545</td>\n",
              "    </tr>\n",
              "    <tr>\n",
              "      <th>1</th>\n",
              "      <td>69</td>\n",
              "      <td>1.983468</td>\n",
              "      <td>2.063013</td>\n",
              "      <td>0.000000</td>\n",
              "      <td>0.079545</td>\n",
              "    </tr>\n",
              "    <tr>\n",
              "      <th>2</th>\n",
              "      <td>35</td>\n",
              "      <td>1.983468</td>\n",
              "      <td>2.072311</td>\n",
              "      <td>0.000000</td>\n",
              "      <td>0.088843</td>\n",
              "    </tr>\n",
              "    <tr>\n",
              "      <th>3</th>\n",
              "      <td>35</td>\n",
              "      <td>2.148757</td>\n",
              "      <td>2.233468</td>\n",
              "      <td>0.165289</td>\n",
              "      <td>0.084711</td>\n",
              "    </tr>\n",
              "    <tr>\n",
              "      <th>4</th>\n",
              "      <td>69</td>\n",
              "      <td>2.148757</td>\n",
              "      <td>2.234501</td>\n",
              "      <td>0.000000</td>\n",
              "      <td>0.085744</td>\n",
              "    </tr>\n",
              "  </tbody>\n",
              "</table>\n",
              "</div>\n",
              "      <button class=\"colab-df-convert\" onclick=\"convertToInteractive('df-27999541-0dbf-4f4b-9862-d17cc80d369c')\"\n",
              "              title=\"Convert this dataframe to an interactive table.\"\n",
              "              style=\"display:none;\">\n",
              "        \n",
              "  <svg xmlns=\"http://www.w3.org/2000/svg\" height=\"24px\"viewBox=\"0 0 24 24\"\n",
              "       width=\"24px\">\n",
              "    <path d=\"M0 0h24v24H0V0z\" fill=\"none\"/>\n",
              "    <path d=\"M18.56 5.44l.94 2.06.94-2.06 2.06-.94-2.06-.94-.94-2.06-.94 2.06-2.06.94zm-11 1L8.5 8.5l.94-2.06 2.06-.94-2.06-.94L8.5 2.5l-.94 2.06-2.06.94zm10 10l.94 2.06.94-2.06 2.06-.94-2.06-.94-.94-2.06-.94 2.06-2.06.94z\"/><path d=\"M17.41 7.96l-1.37-1.37c-.4-.4-.92-.59-1.43-.59-.52 0-1.04.2-1.43.59L10.3 9.45l-7.72 7.72c-.78.78-.78 2.05 0 2.83L4 21.41c.39.39.9.59 1.41.59.51 0 1.02-.2 1.41-.59l7.78-7.78 2.81-2.81c.8-.78.8-2.07 0-2.86zM5.41 20L4 18.59l7.72-7.72 1.47 1.35L5.41 20z\"/>\n",
              "  </svg>\n",
              "      </button>\n",
              "      \n",
              "  <style>\n",
              "    .colab-df-container {\n",
              "      display:flex;\n",
              "      flex-wrap:wrap;\n",
              "      gap: 12px;\n",
              "    }\n",
              "\n",
              "    .colab-df-convert {\n",
              "      background-color: #E8F0FE;\n",
              "      border: none;\n",
              "      border-radius: 50%;\n",
              "      cursor: pointer;\n",
              "      display: none;\n",
              "      fill: #1967D2;\n",
              "      height: 32px;\n",
              "      padding: 0 0 0 0;\n",
              "      width: 32px;\n",
              "    }\n",
              "\n",
              "    .colab-df-convert:hover {\n",
              "      background-color: #E2EBFA;\n",
              "      box-shadow: 0px 1px 2px rgba(60, 64, 67, 0.3), 0px 1px 3px 1px rgba(60, 64, 67, 0.15);\n",
              "      fill: #174EA6;\n",
              "    }\n",
              "\n",
              "    [theme=dark] .colab-df-convert {\n",
              "      background-color: #3B4455;\n",
              "      fill: #D2E3FC;\n",
              "    }\n",
              "\n",
              "    [theme=dark] .colab-df-convert:hover {\n",
              "      background-color: #434B5C;\n",
              "      box-shadow: 0px 1px 3px 1px rgba(0, 0, 0, 0.15);\n",
              "      filter: drop-shadow(0px 1px 2px rgba(0, 0, 0, 0.3));\n",
              "      fill: #FFFFFF;\n",
              "    }\n",
              "  </style>\n",
              "\n",
              "      <script>\n",
              "        const buttonEl =\n",
              "          document.querySelector('#df-27999541-0dbf-4f4b-9862-d17cc80d369c button.colab-df-convert');\n",
              "        buttonEl.style.display =\n",
              "          google.colab.kernel.accessAllowed ? 'block' : 'none';\n",
              "\n",
              "        async function convertToInteractive(key) {\n",
              "          const element = document.querySelector('#df-27999541-0dbf-4f4b-9862-d17cc80d369c');\n",
              "          const dataTable =\n",
              "            await google.colab.kernel.invokeFunction('convertToInteractive',\n",
              "                                                     [key], {});\n",
              "          if (!dataTable) return;\n",
              "\n",
              "          const docLinkHtml = 'Like what you see? Visit the ' +\n",
              "            '<a target=\"_blank\" href=https://colab.research.google.com/notebooks/data_table.ipynb>data table notebook</a>'\n",
              "            + ' to learn more about interactive tables.';\n",
              "          element.innerHTML = '';\n",
              "          dataTable['output_type'] = 'display_data';\n",
              "          await google.colab.output.renderOutput(dataTable, element);\n",
              "          const docLink = document.createElement('div');\n",
              "          docLink.innerHTML = docLinkHtml;\n",
              "          element.appendChild(docLink);\n",
              "        }\n",
              "      </script>\n",
              "    </div>\n",
              "  </div>\n",
              "  "
            ]
          },
          "metadata": {},
          "execution_count": 8
        }
      ]
    },
    {
      "cell_type": "markdown",
      "source": [
        "1.2.2 Modificar la funcion *plot_piano_roll* del tutorial para poder graficar el pianoroll de la canción MIDI escogida. En este caso deberemos poder indicar un tiempo máximo de la canción que queremos añadir en el pianoroll. Además, si pasamos un *max_time=-1*, se deberán graficar todas las notas de la canción"
      ],
      "metadata": {
        "id": "bvOkNBItrqIZ"
      }
    },
    {
      "cell_type": "code",
      "source": [
        "def plot_piano_roll(notes: pd.DataFrame, max_time: int = -1):\n",
        "  if max_time == -1:\n",
        "    title = f'Partitura completa'\n",
        "  else:\n",
        "    title = f'Notas hasta tiempo {max_time}'\n",
        "    \n",
        "  plt.figure(figsize=(20, 4))\n",
        "\n",
        "  if max_time == -1:\n",
        "    max_notes = notes\n",
        "  else:\n",
        "    max_notes = notes[notes['fin'] <= max_time]\n",
        "\n",
        "  plot_pitch = np.stack([max_notes['tono'], max_notes['tono']], axis=0)\n",
        "  plot_start_stop = np.stack([max_notes['inicio'], max_notes['fin']], axis=0)\n",
        "\n",
        "  plt.plot(\n",
        "    plot_start_stop[:, :], plot_pitch[:, :], color=\"b\", marker=\".\")\n",
        "  \n",
        "  plt.xlabel('Tiempo [s]')\n",
        "  plt.ylabel('Tono')\n",
        "  _ = plt.title(title)\n",
        "\n",
        "plot_piano_roll(raw_notes, -1)\n",
        "plot_piano_roll(raw_notes, 25)"
      ],
      "metadata": {
        "id": "THE0cdxNCXwH",
        "colab": {
          "base_uri": "https://localhost:8080/",
          "height": 573
        },
        "outputId": "b8094f28-e3bf-4843-fd30-1b578905f858"
      },
      "execution_count": 9,
      "outputs": [
        {
          "output_type": "display_data",
          "data": {
            "text/plain": [
              "<Figure size 1440x288 with 1 Axes>"
            ],
            "image/png": "[encoded data removed]"
          },
          "metadata": {
            "needs_background": "light"
          }
        },
        {
          "output_type": "display_data",
          "data": {
            "text/plain": [
              "<Figure size 1440x288 with 1 Axes>"
            ],
            "image/png": "[encoded data removed]"
          },
          "metadata": {
            "needs_background": "light"
          }
        }
      ]
    },
    {
      "cell_type": "markdown",
      "source": [
        "## 1.3 Procesado de datos [1.5 pts]"
      ],
      "metadata": {
        "id": "Ry5uiuVywVb9"
      }
    },
    {
      "cell_type": "markdown",
      "source": [
        "Ahora volvemos al artículo y aplicaremos el procesado de datos. Buscar dentro del fichero *data_processing_functions.py* la función que se encarga de llevar a cabo todo el procesado de datos y llamarla desde aquí"
      ],
      "metadata": {
        "id": "Qhk-FbIVwfYH"
      }
    },
    {
      "cell_type": "code",
      "source": [
        "print(dpf.source_folder)\n",
        "print(dpf.tempo_folder1)\n",
        "dpf.do_all_steps()"
      ],
      "metadata": {
        "colab": {
          "base_uri": "https://localhost:8080/"
        },
        "id": "FTy4seFKuSnG",
        "outputId": "2edc3b7c-3fb7-4022-ecb7-313eddb51618"
      },
      "execution_count": 10,
      "outputs": [
        {
          "output_type": "stream",
          "name": "stdout",
          "text": [
            "data/original/\n",
            "data/tempo/\n",
            "changing Tempo\n",
            "histogramming\n",
            "data/tempo/\n"
          ]
        },
        {
          "output_type": "stream",
          "name": "stderr",
          "text": [
            "/usr/local/lib/python3.7/dist-packages/pretty_midi/pretty_midi.py:100: RuntimeWarning: Tempo, Key or Time signature change events found on non-zero tracks.  This is not a valid type 0 or type 1 MIDI file.  Tempo, Key or Time Signature may be wrong.\n",
            "  RuntimeWarning)\n"
          ]
        },
        {
          "output_type": "stream",
          "name": "stdout",
          "text": [
            "make song histo\n",
            "shifting midi files\n",
            "making note indexes\n",
            "histogramming\n",
            "data/shifted/tempo/\n",
            "extracting chords\n",
            "getting dictionary\n",
            "converting chords to index sequences\n",
            "done\n"
          ]
        }
      ]
    },
    {
      "cell_type": "markdown",
      "source": [
        "1.3.1 ¿Qué hace la función *change_tempo_folder*?¿Qué bpm fija para las canciones?"
      ],
      "metadata": {
        "id": "C_LOJsQR1WGH"
      }
    },
    {
      "cell_type": "markdown",
      "source": [
        "Busca todos los ficheros en el árbol de directorios de origen, en nuestro caso `data/original`, y deja una copia procesada en la carpeta de destino, en nuestro caso `data/tempo`. \n",
        "\n",
        "Este proceso no replica la estructura de directorios sino que aplana el árbol dejando todos los ficheros encontrados en la carpeta de destino.\n",
        "\n",
        "El proceso de copia crea un nuevo archivo MIDI a partir del original cambiando el tempo del mismo a \"500000 microseconds per beat\", que es el valor por defecto de MIDI:\n",
        "\n",
        "> Unlike music, tempo in MIDI is not given as beats per minute, but rather in microseconds per beat. The default tempo is 500000 microseconds per beat, which is 120 beats per minute.\n",
        "\n",
        "Fuente: [MIDI Tempo vs. BPM](https://mido.readthedocs.io/en/latest/midi_files.html)\n",
        "\n",
        "Por tanto, el bpm asignado es 120, que es la equivalencia establecida anteriormente."
      ],
      "metadata": {
        "id": "KAP_DAD8ChAl"
      }
    },
    {
      "cell_type": "markdown",
      "source": [
        "1.3.2 Una vez tenemos ejecutado el procesado de datos se habrán creado muchas carpetas y muchos ficheros nuevos en la actual carpeta ***data***. Ahora usaremos algunos de estos ficheros para construir la figura 2 del artículo usando los datos procesados. Crearemos dos funciones:\n",
        "*   my_save_histo_oct_from_midi_folder\n",
        "*   my_midi_to_histo_oct\n",
        "\n",
        "basadas en las funciones ***save_histo_oct_from_midi_folder*** y ***midi_to_histo_oct*** que encontraréis en los ficheros ***midi_functions.py*** y ***data_processing_functions.py***. Ahora las modificaremos para que nos devuelvan datos para dos tipos de histogramas: uno igual a la figura 2 del artículo (apariciones VS pitch) y otro, usando el *histo_oct*, que serán datos para graficar *apariciones VS notas en cualquier octava*, es decir, el número de veces que aparece una nota (sin importar a que octava pertenezca) a lo largo de una canción."
      ],
      "metadata": {
        "id": "l5DNt93c32tc"
      }
    },
    {
      "cell_type": "markdown",
      "source": [
        "\n",
        "*indicación: Es importante entender la estructura de las variables:*\n",
        "*   pianoroll\n",
        "*   histo_bar\n",
        "*   histo_oct\n",
        "\n",
        "*dentro de la funcion* ***midi_to_histo_oct***"
      ],
      "metadata": {
        "id": "vHNEdanvAzLp"
      }
    },
    {
      "cell_type": "code",
      "source": [
        "#usa este vector como labels del segundo gráfico \n",
        "notas_en_una_octava = ['C','C#','D','D#','E','F','F#','G','G#','A','A#','B']\n",
        "\n",
        "print(dpf.samples_per_bar)\n",
        "print(dpf.octave)\n",
        "print(dpf.fs)"
      ],
      "metadata": {
        "id": "IygIfEr3_z8_",
        "colab": {
          "base_uri": "https://localhost:8080/"
        },
        "outputId": "17d28aee-ea73-448b-91f9-d6b2053aadf1"
      },
      "execution_count": 11,
      "outputs": [
        {
          "output_type": "stream",
          "name": "stdout",
          "text": [
            "8\n",
            "12\n",
            "4\n"
          ]
        }
      ]
    },
    {
      "cell_type": "markdown",
      "source": [
        "        piano_roll : np.ndarray, shape=(128,times.shape[0])\n",
        "            Piano roll of MIDI data, flattened across instruments.\n",
        "\n"
      ],
      "metadata": {
        "id": "o5NZ6YpW6tYn"
      }
    },
    {
      "cell_type": "code",
      "source": [
        "def pianoroll_to_histo_bar(pianoroll, samples_per_bar):\n",
        "    # Make histogramm for every samples_per_bar samples\n",
        "    histo_bar = np.zeros((pianoroll.shape[0], int(pianoroll.shape[1]/samples_per_bar)))\n",
        "    for i in range(0,pianoroll.shape[1]-samples_per_bar+1,samples_per_bar):\n",
        "    #    print(i/samples_per_bar)\n",
        "    #    print('i: ',i)\n",
        "    #    print(i+samples_per_bar)\n",
        "        histo_bar[:,int(i/samples_per_bar)] = np.sum(pianoroll[:,i:i+samples_per_bar], axis=1)\n",
        "    return histo_bar\n",
        "\n",
        "def histo_bar_to_histo_oct(histo_bar, octave):\n",
        "    histo_oct = np.zeros((octave, histo_bar.shape[1]))\n",
        "    for i in range(0, histo_bar.shape[0]-octave+1, octave):\n",
        "#        print('i: ',i)\n",
        "#        print(i+octave)\n",
        "        histo_oct = np.add(histo_oct, histo_bar[i:i+octave])\n",
        "    return histo_oct"
      ],
      "metadata": {
        "id": "79Dkz4jN8Ifu"
      },
      "execution_count": 12,
      "outputs": []
    },
    {
      "cell_type": "code",
      "source": [
        "def my_save_histo_oct_from_midi_folder(tempo_folder,histo_folder):\n",
        "  print(tempo_folder)\n",
        "  for path, subdirs, files in os.walk(tempo_folder):\n",
        "    for name in files:\n",
        "      _path = path.replace('\\\\', '/') + '/'\n",
        "      _name = name.replace('\\\\', '/')\n",
        "      target_path = histo_folder+_path[len(tempo_folder):]\n",
        "      if not os.path.exists(target_path):\n",
        "          os.makedirs(target_path)\n",
        "      try:\n",
        "          return my_midi_to_histo_oct(dpf.samples_per_bar,dpf.octave, dpf.fs, _name, _path, target_path)\n",
        "      except (ValueError, EOFError, IndexError, OSError, KeyError, ZeroDivisionError) as e:\n",
        "          exception_str = 'Unexpected error in ' + name  + ':\\n', e, sys.exc_info()[0]\n",
        "          print(exception_str)\n",
        "\n",
        "def my_midi_to_histo_oct(samples_per_bar,octave, fs, name, path, histo_path):\n",
        "  #print(path + name)\n",
        "  pianoroll = mf.get_pianoroll(name, path, fs)\n",
        "  histo_bar = mf.pianoroll_to_histo_bar(pianoroll, samples_per_bar)\n",
        "  histo_oct = mf.histo_bar_to_histo_oct(histo_bar, octave)\n",
        "  pickle.dump(histo_oct,open(histo_path + name + '.pickle' , 'wb'))\n",
        "  return histo_bar, histo_oct\n",
        "\n",
        "histo_bar, histo_oct = my_save_histo_oct_from_midi_folder(\n",
        "    dpf.tempo_folder1, dpf.histo_folder1)\n",
        "\n"
      ],
      "metadata": {
        "id": "PuDexJSYCjo2",
        "colab": {
          "base_uri": "https://localhost:8080/"
        },
        "outputId": "5f6ea3e1-c188-465a-ed4c-3c44f144d1db"
      },
      "execution_count": 13,
      "outputs": [
        {
          "output_type": "stream",
          "name": "stdout",
          "text": [
            "data/tempo/\n"
          ]
        }
      ]
    },
    {
      "cell_type": "code",
      "source": [
        "print(histo_bar.shape)\n",
        "\n",
        "print(histo_bar[:,10])\n",
        "print(histo_bar[2])\n",
        "\n",
        "bar = np.sum(histo_bar, axis = 1)\n",
        "print(bar.shape)\n",
        "print(bar)"
      ],
      "metadata": {
        "colab": {
          "base_uri": "https://localhost:8080/"
        },
        "id": "hLatgvNQDIFy",
        "outputId": "2d4b769a-5736-4893-e0af-4d9488db5fcf"
      },
      "execution_count": 14,
      "outputs": [
        {
          "output_type": "stream",
          "name": "stdout",
          "text": [
            "(128, 67)\n",
            "[0. 0. 0. 0. 0. 0. 0. 0. 0. 0. 0. 0. 0. 0. 0. 0. 0. 0. 0. 0. 0. 0. 0. 0.\n",
            " 0. 0. 0. 0. 0. 0. 0. 0. 0. 0. 0. 0. 0. 0. 1. 0. 8. 0. 0. 0. 0. 0. 0. 4.\n",
            " 0. 0. 0. 0. 5. 0. 0. 0. 0. 0. 0. 2. 0. 0. 0. 0. 0. 0. 1. 6. 0. 0. 0. 0.\n",
            " 0. 0. 0. 0. 0. 0. 0. 0. 0. 0. 0. 0. 0. 0. 0. 0. 0. 0. 0. 0. 0. 0. 0. 0.\n",
            " 0. 0. 0. 0. 0. 0. 0. 0. 0. 0. 0. 0. 0. 0. 0. 0. 0. 0. 0. 0. 0. 0. 0. 0.\n",
            " 0. 0. 0. 0. 0. 0. 0. 0.]\n",
            "[0. 0. 0. 0. 0. 0. 0. 0. 0. 0. 0. 0. 0. 0. 0. 0. 0. 0. 0. 0. 0. 0. 0. 0.\n",
            " 0. 0. 0. 0. 0. 0. 0. 0. 0. 0. 0. 0. 0. 0. 0. 0. 0. 0. 0. 0. 0. 0. 0. 0.\n",
            " 0. 0. 0. 0. 0. 0. 0. 0. 0. 0. 0. 0. 0. 0. 0. 0. 0. 0. 0.]\n",
            "(128,)\n",
            "[  0.   0.   0.   0.   0.   0.   0.   0.   0.   0.   0.   0.   0.   0.\n",
            "   0.   0.   0.   0.   0.   0.   0.   0.   0.   0.   0.   0.   2.   0.\n",
            "  19.  42.  17.  89.   0.  49.   0.  70.  43.   2.  82.   5.  72.  40.\n",
            "  17.  87.   0.  53.   0.  84.  41.   6. 106.   1.  68.  50.  29.  81.\n",
            "   0.  86.   0.  58.  82.  15. 134.  27. 141.  59.  98. 161.  22. 183.\n",
            "  12. 194.  88.   1.  90.   0.  34.  10.   8.   6.   4.   8.   4.   8.\n",
            "   4.   0.   0.   0.   0.   0.   0.   0.   0.   0.   0.   0.   0.   0.\n",
            "   0.   0.   0.   0.   0.   0.   0.   0.   0.   0.   0.   0.   0.   0.\n",
            "   0.   0.   0.   0.   0.   0.   0.   0.   0.   0.   0.   0.   0.   0.\n",
            "   0.   0.]\n"
          ]
        }
      ]
    },
    {
      "cell_type": "code",
      "source": [
        ""
      ],
      "metadata": {
        "id": "wEQW2WQ8ymuh"
      },
      "execution_count": 14,
      "outputs": []
    },
    {
      "cell_type": "code",
      "source": [
        "print(histo_oct.shape)\n",
        "print(histo_oct)\n",
        "\n",
        "d = np.array([[1, 2, 1, 2, 1],[3, 4, 3, 4, 3]])\n",
        "print(d)\n",
        "print(d.shape)\n",
        "\n",
        "d2 = d.reshape(-1, 2)\n",
        "print(d2.shape)\n",
        "print(d2)\n",
        "df = pd.DataFrame(d2, columns=['A', 'B'])\n",
        "df.head(10)\n"
      ],
      "metadata": {
        "colab": {
          "base_uri": "https://localhost:8080/",
          "height": 1000
        },
        "id": "BJeJ9RrOcM9R",
        "outputId": "f368c657-c893-4a50-d609-84b3ea1f3495"
      },
      "execution_count": 15,
      "outputs": [
        {
          "output_type": "stream",
          "name": "stdout",
          "text": [
            "(12, 67)\n",
            "[[ 0.  0.  4.  5.  3. 10.  2.  1.  0.  0.  0.  0.  2.  0. 15. 12.  1.  4.\n",
            "   3.  2.  0.  1.  1.  2.  0.  0.  0.  0.  0.  1. 19. 13.  1.  4.  4.  7.\n",
            "   1.  5. 13.  5.  4.  5.  3.  9.  1.  2.  0.  0.  1.  0.  3.  1. 19. 13.\n",
            "   1.  4.  4.  7.  1.  5. 13.  5.  4.  5.  3.  4.  0.]\n",
            " [ 0.  0.  0.  0.  0.  0.  0.  0.  3.  0.  0.  0.  0.  0.  0.  0.  0.  0.\n",
            "   0.  1.  0.  0.  0.  0.  5.  0.  0.  0.  0.  0.  2.  1.  0.  0.  0.  2.\n",
            "   0.  0.  0.  0.  0.  0.  0.  1.  0.  0.  5.  0.  0.  0.  0.  0.  2.  1.\n",
            "   0.  0.  0.  1.  0.  0.  0.  0.  0.  0.  0.  0.  0.]\n",
            " [ 0.  0.  2.  2.  2. 19.  6.  6.  0.  0.  1.  3. 13.  7.  0.  3. 10.  1.\n",
            "   0.  1. 14. 24. 12.  6.  0.  0.  0.  1. 21.  8.  0.  7. 10.  1.  0. 19.\n",
            "  14.  1.  0. 23.  2.  2.  2. 19. 13.  7.  1.  0.  0.  1. 21.  8.  1.  7.\n",
            "  11.  1.  0. 20. 14.  2.  0. 23.  1.  1.  2. 10.  8.]\n",
            " [ 0.  0.  0.  0.  1.  6.  0.  0.  0.  5.  0.  1.  0.  0.  0.  0.  1.  0.\n",
            "   0.  0.  0.  0.  0.  0.  0.  6.  0.  0.  0.  0.  0.  0.  0.  0.  0.  0.\n",
            "   0.  0.  0.  0.  0.  0.  1.  6.  0.  0.  0.  5.  0.  0.  0.  0.  0.  0.\n",
            "   0.  0.  0.  0.  0.  0.  0.  0.  0.  0.  1.  0.  0.]\n",
            " [ 0.  0.  4.  3.  3.  2.  0.  0.  3.  0. 13. 19.  1.  0.  7.  0.  0. 18.\n",
            "   7.  6.  0.  0.  0.  0.  6.  0. 14. 17.  1.  2. 10.  2.  3. 15. 11.  0.\n",
            "   1. 18.  6.  5.  4.  3.  3.  2.  0.  0.  6.  0. 14. 18.  3.  3. 10.  2.\n",
            "   3. 15. 11.  0.  1. 18.  6.  5.  4.  3.  2.  1.  0.]\n",
            " [ 0.  0. 13. 14. 13.  0.  0.  0.  0.  2.  0.  0.  7.  4.  0.  0.  0.  0.\n",
            "   0.  0.  0.  0.  0.  0.  0.  3.  0.  0. 10.  8.  0.  0.  0.  0.  0.  0.\n",
            "  10.  1.  0.  0. 13. 14. 13.  0.  0.  0.  0.  3.  0.  2. 10.  8.  0.  0.\n",
            "   0.  0.  0.  0. 10.  1.  0.  0. 13. 14. 13.  2.  0.]\n",
            " [ 0.  0.  0.  0.  0.  7.  0.  1. 14.  1.  1.  2.  0.  1.  1.  5.  8.  0.\n",
            "   0.  0.  1.  0.  0.  1. 21.  2.  2.  5.  0.  1.  0. 12. 12.  0.  0.  0.\n",
            "   0.  0.  0.  2.  0.  0.  0.  7.  0.  0. 21.  2.  1.  3.  0.  1.  2. 12.\n",
            "  12.  0.  0.  0.  0.  0.  0.  1.  0.  0.  0.  7.  0.]\n",
            " [ 0.  2. 11. 12.  8.  2. 21. 20.  0.  2.  6.  2.  2. 17.  6.  2.  0.  0.\n",
            "   1.  1.  1.  0. 25. 19.  0.  2.  7.  3.  3. 16. 12.  0.  0.  0.  2.  2.\n",
            "   0.  0.  2.  5. 17. 12.  8.  2. 25. 17.  0.  2.  3.  2.  1. 21. 13.  0.\n",
            "   0.  0.  2.  2.  0.  0.  2.  4. 14. 10.  8. 21. 24.]\n",
            " [ 0.  0.  0.  0.  0.  0.  0.  0.  0.  0.  0.  0.  0.  0.  0.  0.  0.  3.\n",
            "   1.  0.  0.  0.  0.  0.  0.  0.  0.  0.  0.  0.  0.  0.  0.  4.  0.  0.\n",
            "   0.  5.  0.  0.  0.  0.  0.  0.  0.  0.  0.  0.  0.  0.  1.  1.  0.  0.\n",
            "   0.  5.  0.  0.  0.  5.  0.  1.  0.  0.  0.  0.  0.]\n",
            " [ 0.  1.  6.  3.  4.  4.  1.  2.  9.  0.  0.  0.  5.  0.  0.  6.  6.  3.\n",
            "  25. 20.  8.  0.  1.  4.  8.  3.  0.  1.  4.  4.  2.  8.  7.  5. 25.  4.\n",
            "   4.  4. 25. 13.  6.  3.  4.  4.  3.  3.  4.  4.  0.  1.  6.  4.  2.  8.\n",
            "   7.  5. 23.  6.  4.  4. 25. 13.  6.  3.  4.  2.  0.]\n",
            " [ 0.  0.  0.  0.  0.  0.  0.  1.  0.  0.  0.  0.  0.  0.  0.  0.  0.  1.\n",
            "   0.  0.  0.  0.  0.  0.  1.  0.  0.  0.  0.  0.  0.  0.  0.  4.  0.  0.\n",
            "   0.  0.  0.  0.  0.  0.  0.  1.  1.  0.  2.  0.  0.  0.  0.  1.  0.  0.\n",
            "   0.  4.  0.  0.  0.  0.  0.  0.  0.  0.  0.  0.  0.]\n",
            " [ 0.  1.  1.  3.  1.  0.  8.  6.  4. 15.  6.  5.  0.  6.  0.  6. 14.  5.\n",
            "   3.  5.  0.  0.  9.  7.  3. 18. 14. 15.  0.  3.  1.  6. 16. 10.  5.  6.\n",
            "  20.  7.  2.  4.  1.  3.  1.  1.  8.  9.  6. 18. 16. 15.  0.  5.  1.  4.\n",
            "  17. 11.  3.  6. 21.  7.  3.  4.  1.  3.  1.  6.  8.]]\n",
            "[[1 2 1 2 1]\n",
            " [3 4 3 4 3]]\n",
            "(2, 5)\n",
            "(5, 2)\n",
            "[[1 2]\n",
            " [1 2]\n",
            " [1 3]\n",
            " [4 3]\n",
            " [4 3]]\n"
          ]
        },
        {
          "output_type": "execute_result",
          "data": {
            "text/plain": [
              "   A  B\n",
              "0  1  2\n",
              "1  1  2\n",
              "2  1  3\n",
              "3  4  3\n",
              "4  4  3"
            ],
            "text/html": [
              "\n",
              "  <div id=\"df-5f7584a4-d287-4de4-9859-66f2b3b8e636\">\n",
              "    <div class=\"colab-df-container\">\n",
              "      <div>\n",
              "<style scoped>\n",
              "    .dataframe tbody tr th:only-of-type {\n",
              "        vertical-align: middle;\n",
              "    }\n",
              "\n",
              "    .dataframe tbody tr th {\n",
              "        vertical-align: top;\n",
              "    }\n",
              "\n",
              "    .dataframe thead th {\n",
              "        text-align: right;\n",
              "    }\n",
              "</style>\n",
              "<table border=\"1\" class=\"dataframe\">\n",
              "  <thead>\n",
              "    <tr style=\"text-align: right;\">\n",
              "      <th></th>\n",
              "      <th>A</th>\n",
              "      <th>B</th>\n",
              "    </tr>\n",
              "  </thead>\n",
              "  <tbody>\n",
              "    <tr>\n",
              "      <th>0</th>\n",
              "      <td>1</td>\n",
              "      <td>2</td>\n",
              "    </tr>\n",
              "    <tr>\n",
              "      <th>1</th>\n",
              "      <td>1</td>\n",
              "      <td>2</td>\n",
              "    </tr>\n",
              "    <tr>\n",
              "      <th>2</th>\n",
              "      <td>1</td>\n",
              "      <td>3</td>\n",
              "    </tr>\n",
              "    <tr>\n",
              "      <th>3</th>\n",
              "      <td>4</td>\n",
              "      <td>3</td>\n",
              "    </tr>\n",
              "    <tr>\n",
              "      <th>4</th>\n",
              "      <td>4</td>\n",
              "      <td>3</td>\n",
              "    </tr>\n",
              "  </tbody>\n",
              "</table>\n",
              "</div>\n",
              "      <button class=\"colab-df-convert\" onclick=\"convertToInteractive('df-5f7584a4-d287-4de4-9859-66f2b3b8e636')\"\n",
              "              title=\"Convert this dataframe to an interactive table.\"\n",
              "              style=\"display:none;\">\n",
              "        \n",
              "  <svg xmlns=\"http://www.w3.org/2000/svg\" height=\"24px\"viewBox=\"0 0 24 24\"\n",
              "       width=\"24px\">\n",
              "    <path d=\"M0 0h24v24H0V0z\" fill=\"none\"/>\n",
              "    <path d=\"M18.56 5.44l.94 2.06.94-2.06 2.06-.94-2.06-.94-.94-2.06-.94 2.06-2.06.94zm-11 1L8.5 8.5l.94-2.06 2.06-.94-2.06-.94L8.5 2.5l-.94 2.06-2.06.94zm10 10l.94 2.06.94-2.06 2.06-.94-2.06-.94-.94-2.06-.94 2.06-2.06.94z\"/><path d=\"M17.41 7.96l-1.37-1.37c-.4-.4-.92-.59-1.43-.59-.52 0-1.04.2-1.43.59L10.3 9.45l-7.72 7.72c-.78.78-.78 2.05 0 2.83L4 21.41c.39.39.9.59 1.41.59.51 0 1.02-.2 1.41-.59l7.78-7.78 2.81-2.81c.8-.78.8-2.07 0-2.86zM5.41 20L4 18.59l7.72-7.72 1.47 1.35L5.41 20z\"/>\n",
              "  </svg>\n",
              "      </button>\n",
              "      \n",
              "  <style>\n",
              "    .colab-df-container {\n",
              "      display:flex;\n",
              "      flex-wrap:wrap;\n",
              "      gap: 12px;\n",
              "    }\n",
              "\n",
              "    .colab-df-convert {\n",
              "      background-color: #E8F0FE;\n",
              "      border: none;\n",
              "      border-radius: 50%;\n",
              "      cursor: pointer;\n",
              "      display: none;\n",
              "      fill: #1967D2;\n",
              "      height: 32px;\n",
              "      padding: 0 0 0 0;\n",
              "      width: 32px;\n",
              "    }\n",
              "\n",
              "    .colab-df-convert:hover {\n",
              "      background-color: #E2EBFA;\n",
              "      box-shadow: 0px 1px 2px rgba(60, 64, 67, 0.3), 0px 1px 3px 1px rgba(60, 64, 67, 0.15);\n",
              "      fill: #174EA6;\n",
              "    }\n",
              "\n",
              "    [theme=dark] .colab-df-convert {\n",
              "      background-color: #3B4455;\n",
              "      fill: #D2E3FC;\n",
              "    }\n",
              "\n",
              "    [theme=dark] .colab-df-convert:hover {\n",
              "      background-color: #434B5C;\n",
              "      box-shadow: 0px 1px 3px 1px rgba(0, 0, 0, 0.15);\n",
              "      filter: drop-shadow(0px 1px 2px rgba(0, 0, 0, 0.3));\n",
              "      fill: #FFFFFF;\n",
              "    }\n",
              "  </style>\n",
              "\n",
              "      <script>\n",
              "        const buttonEl =\n",
              "          document.querySelector('#df-5f7584a4-d287-4de4-9859-66f2b3b8e636 button.colab-df-convert');\n",
              "        buttonEl.style.display =\n",
              "          google.colab.kernel.accessAllowed ? 'block' : 'none';\n",
              "\n",
              "        async function convertToInteractive(key) {\n",
              "          const element = document.querySelector('#df-5f7584a4-d287-4de4-9859-66f2b3b8e636');\n",
              "          const dataTable =\n",
              "            await google.colab.kernel.invokeFunction('convertToInteractive',\n",
              "                                                     [key], {});\n",
              "          if (!dataTable) return;\n",
              "\n",
              "          const docLinkHtml = 'Like what you see? Visit the ' +\n",
              "            '<a target=\"_blank\" href=https://colab.research.google.com/notebooks/data_table.ipynb>data table notebook</a>'\n",
              "            + ' to learn more about interactive tables.';\n",
              "          element.innerHTML = '';\n",
              "          dataTable['output_type'] = 'display_data';\n",
              "          await google.colab.output.renderOutput(dataTable, element);\n",
              "          const docLink = document.createElement('div');\n",
              "          docLink.innerHTML = docLinkHtml;\n",
              "          element.appendChild(docLink);\n",
              "        }\n",
              "      </script>\n",
              "    </div>\n",
              "  </div>\n",
              "  "
            ]
          },
          "metadata": {},
          "execution_count": 15
        }
      ]
    },
    {
      "cell_type": "code",
      "source": [
        "plt.figure(figsize=(20, 4))\n",
        "plt.hist(df.A, label='A')\n",
        "plt.hist(df.B, label='B')\n",
        "plt.legend()"
      ],
      "metadata": {
        "colab": {
          "base_uri": "https://localhost:8080/",
          "height": 282
        },
        "id": "MlaHGkQltMe6",
        "outputId": "3f8c1daa-e3f9-4e09-a90f-c3d5efc4ea34"
      },
      "execution_count": 16,
      "outputs": [
        {
          "output_type": "execute_result",
          "data": {
            "text/plain": [
              "<matplotlib.legend.Legend at 0x7fb66f5ce310>"
            ]
          },
          "metadata": {},
          "execution_count": 16
        },
        {
          "output_type": "display_data",
          "data": {
            "text/plain": [
              "<Figure size 1440x288 with 1 Axes>"
            ],
            "image/png": "[encoded data removed]"
          },
          "metadata": {
            "needs_background": "light"
          }
        }
      ]
    },
    {
      "cell_type": "code",
      "source": [
        "df = pd.DataFrame(histo_oct.reshape(-1,12), columns=notas_en_una_octava)\n",
        "df.head(10)"
      ],
      "metadata": {
        "colab": {
          "base_uri": "https://localhost:8080/",
          "height": 363
        },
        "id": "XElm52AZqchh",
        "outputId": "38b8497b-9b16-46e4-f536-833a57dd0d65"
      },
      "execution_count": 17,
      "outputs": [
        {
          "output_type": "execute_result",
          "data": {
            "text/plain": [
              "      C   C#     D    D#     E     F    F#     G   G#    A   A#    B\n",
              "0   0.0  0.0   4.0   5.0   3.0  10.0   2.0   1.0  0.0  0.0  0.0  0.0\n",
              "1   2.0  0.0  15.0  12.0   1.0   4.0   3.0   2.0  0.0  1.0  1.0  2.0\n",
              "2   0.0  0.0   0.0   0.0   0.0   1.0  19.0  13.0  1.0  4.0  4.0  7.0\n",
              "3   1.0  5.0  13.0   5.0   4.0   5.0   3.0   9.0  1.0  2.0  0.0  0.0\n",
              "4   1.0  0.0   3.0   1.0  19.0  13.0   1.0   4.0  4.0  7.0  1.0  5.0\n",
              "5  13.0  5.0   4.0   5.0   3.0   4.0   0.0   0.0  0.0  0.0  0.0  0.0\n",
              "6   0.0  0.0   0.0   3.0   0.0   0.0   0.0   0.0  0.0  0.0  0.0  0.0\n",
              "7   0.0  0.0   1.0   0.0   0.0   0.0   0.0   5.0  0.0  0.0  0.0  0.0\n",
              "8   0.0  2.0   1.0   0.0   0.0   0.0   2.0   0.0  0.0  0.0  0.0  0.0\n",
              "9   0.0  0.0   1.0   0.0   0.0   5.0   0.0   0.0  0.0  0.0  0.0  2.0"
            ],
            "text/html": [
              "\n",
              "  <div id=\"df-63a69b8f-7f55-4c61-a9f9-0024c445cec3\">\n",
              "    <div class=\"colab-df-container\">\n",
              "      <div>\n",
              "<style scoped>\n",
              "    .dataframe tbody tr th:only-of-type {\n",
              "        vertical-align: middle;\n",
              "    }\n",
              "\n",
              "    .dataframe tbody tr th {\n",
              "        vertical-align: top;\n",
              "    }\n",
              "\n",
              "    .dataframe thead th {\n",
              "        text-align: right;\n",
              "    }\n",
              "</style>\n",
              "<table border=\"1\" class=\"dataframe\">\n",
              "  <thead>\n",
              "    <tr style=\"text-align: right;\">\n",
              "      <th></th>\n",
              "      <th>C</th>\n",
              "      <th>C#</th>\n",
              "      <th>D</th>\n",
              "      <th>D#</th>\n",
              "      <th>E</th>\n",
              "      <th>F</th>\n",
              "      <th>F#</th>\n",
              "      <th>G</th>\n",
              "      <th>G#</th>\n",
              "      <th>A</th>\n",
              "      <th>A#</th>\n",
              "      <th>B</th>\n",
              "    </tr>\n",
              "  </thead>\n",
              "  <tbody>\n",
              "    <tr>\n",
              "      <th>0</th>\n",
              "      <td>0.0</td>\n",
              "      <td>0.0</td>\n",
              "      <td>4.0</td>\n",
              "      <td>5.0</td>\n",
              "      <td>3.0</td>\n",
              "      <td>10.0</td>\n",
              "      <td>2.0</td>\n",
              "      <td>1.0</td>\n",
              "      <td>0.0</td>\n",
              "      <td>0.0</td>\n",
              "      <td>0.0</td>\n",
              "      <td>0.0</td>\n",
              "    </tr>\n",
              "    <tr>\n",
              "      <th>1</th>\n",
              "      <td>2.0</td>\n",
              "      <td>0.0</td>\n",
              "      <td>15.0</td>\n",
              "      <td>12.0</td>\n",
              "      <td>1.0</td>\n",
              "      <td>4.0</td>\n",
              "      <td>3.0</td>\n",
              "      <td>2.0</td>\n",
              "      <td>0.0</td>\n",
              "      <td>1.0</td>\n",
              "      <td>1.0</td>\n",
              "      <td>2.0</td>\n",
              "    </tr>\n",
              "    <tr>\n",
              "      <th>2</th>\n",
              "      <td>0.0</td>\n",
              "      <td>0.0</td>\n",
              "      <td>0.0</td>\n",
              "      <td>0.0</td>\n",
              "      <td>0.0</td>\n",
              "      <td>1.0</td>\n",
              "      <td>19.0</td>\n",
              "      <td>13.0</td>\n",
              "      <td>1.0</td>\n",
              "      <td>4.0</td>\n",
              "      <td>4.0</td>\n",
              "      <td>7.0</td>\n",
              "    </tr>\n",
              "    <tr>\n",
              "      <th>3</th>\n",
              "      <td>1.0</td>\n",
              "      <td>5.0</td>\n",
              "      <td>13.0</td>\n",
              "      <td>5.0</td>\n",
              "      <td>4.0</td>\n",
              "      <td>5.0</td>\n",
              "      <td>3.0</td>\n",
              "      <td>9.0</td>\n",
              "      <td>1.0</td>\n",
              "      <td>2.0</td>\n",
              "      <td>0.0</td>\n",
              "      <td>0.0</td>\n",
              "    </tr>\n",
              "    <tr>\n",
              "      <th>4</th>\n",
              "      <td>1.0</td>\n",
              "      <td>0.0</td>\n",
              "      <td>3.0</td>\n",
              "      <td>1.0</td>\n",
              "      <td>19.0</td>\n",
              "      <td>13.0</td>\n",
              "      <td>1.0</td>\n",
              "      <td>4.0</td>\n",
              "      <td>4.0</td>\n",
              "      <td>7.0</td>\n",
              "      <td>1.0</td>\n",
              "      <td>5.0</td>\n",
              "    </tr>\n",
              "    <tr>\n",
              "      <th>5</th>\n",
              "      <td>13.0</td>\n",
              "      <td>5.0</td>\n",
              "      <td>4.0</td>\n",
              "      <td>5.0</td>\n",
              "      <td>3.0</td>\n",
              "      <td>4.0</td>\n",
              "      <td>0.0</td>\n",
              "      <td>0.0</td>\n",
              "      <td>0.0</td>\n",
              "      <td>0.0</td>\n",
              "      <td>0.0</td>\n",
              "      <td>0.0</td>\n",
              "    </tr>\n",
              "    <tr>\n",
              "      <th>6</th>\n",
              "      <td>0.0</td>\n",
              "      <td>0.0</td>\n",
              "      <td>0.0</td>\n",
              "      <td>3.0</td>\n",
              "      <td>0.0</td>\n",
              "      <td>0.0</td>\n",
              "      <td>0.0</td>\n",
              "      <td>0.0</td>\n",
              "      <td>0.0</td>\n",
              "      <td>0.0</td>\n",
              "      <td>0.0</td>\n",
              "      <td>0.0</td>\n",
              "    </tr>\n",
              "    <tr>\n",
              "      <th>7</th>\n",
              "      <td>0.0</td>\n",
              "      <td>0.0</td>\n",
              "      <td>1.0</td>\n",
              "      <td>0.0</td>\n",
              "      <td>0.0</td>\n",
              "      <td>0.0</td>\n",
              "      <td>0.0</td>\n",
              "      <td>5.0</td>\n",
              "      <td>0.0</td>\n",
              "      <td>0.0</td>\n",
              "      <td>0.0</td>\n",
              "      <td>0.0</td>\n",
              "    </tr>\n",
              "    <tr>\n",
              "      <th>8</th>\n",
              "      <td>0.0</td>\n",
              "      <td>2.0</td>\n",
              "      <td>1.0</td>\n",
              "      <td>0.0</td>\n",
              "      <td>0.0</td>\n",
              "      <td>0.0</td>\n",
              "      <td>2.0</td>\n",
              "      <td>0.0</td>\n",
              "      <td>0.0</td>\n",
              "      <td>0.0</td>\n",
              "      <td>0.0</td>\n",
              "      <td>0.0</td>\n",
              "    </tr>\n",
              "    <tr>\n",
              "      <th>9</th>\n",
              "      <td>0.0</td>\n",
              "      <td>0.0</td>\n",
              "      <td>1.0</td>\n",
              "      <td>0.0</td>\n",
              "      <td>0.0</td>\n",
              "      <td>5.0</td>\n",
              "      <td>0.0</td>\n",
              "      <td>0.0</td>\n",
              "      <td>0.0</td>\n",
              "      <td>0.0</td>\n",
              "      <td>0.0</td>\n",
              "      <td>2.0</td>\n",
              "    </tr>\n",
              "  </tbody>\n",
              "</table>\n",
              "</div>\n",
              "      <button class=\"colab-df-convert\" onclick=\"convertToInteractive('df-63a69b8f-7f55-4c61-a9f9-0024c445cec3')\"\n",
              "              title=\"Convert this dataframe to an interactive table.\"\n",
              "              style=\"display:none;\">\n",
              "        \n",
              "  <svg xmlns=\"http://www.w3.org/2000/svg\" height=\"24px\"viewBox=\"0 0 24 24\"\n",
              "       width=\"24px\">\n",
              "    <path d=\"M0 0h24v24H0V0z\" fill=\"none\"/>\n",
              "    <path d=\"M18.56 5.44l.94 2.06.94-2.06 2.06-.94-2.06-.94-.94-2.06-.94 2.06-2.06.94zm-11 1L8.5 8.5l.94-2.06 2.06-.94-2.06-.94L8.5 2.5l-.94 2.06-2.06.94zm10 10l.94 2.06.94-2.06 2.06-.94-2.06-.94-.94-2.06-.94 2.06-2.06.94z\"/><path d=\"M17.41 7.96l-1.37-1.37c-.4-.4-.92-.59-1.43-.59-.52 0-1.04.2-1.43.59L10.3 9.45l-7.72 7.72c-.78.78-.78 2.05 0 2.83L4 21.41c.39.39.9.59 1.41.59.51 0 1.02-.2 1.41-.59l7.78-7.78 2.81-2.81c.8-.78.8-2.07 0-2.86zM5.41 20L4 18.59l7.72-7.72 1.47 1.35L5.41 20z\"/>\n",
              "  </svg>\n",
              "      </button>\n",
              "      \n",
              "  <style>\n",
              "    .colab-df-container {\n",
              "      display:flex;\n",
              "      flex-wrap:wrap;\n",
              "      gap: 12px;\n",
              "    }\n",
              "\n",
              "    .colab-df-convert {\n",
              "      background-color: #E8F0FE;\n",
              "      border: none;\n",
              "      border-radius: 50%;\n",
              "      cursor: pointer;\n",
              "      display: none;\n",
              "      fill: #1967D2;\n",
              "      height: 32px;\n",
              "      padding: 0 0 0 0;\n",
              "      width: 32px;\n",
              "    }\n",
              "\n",
              "    .colab-df-convert:hover {\n",
              "      background-color: #E2EBFA;\n",
              "      box-shadow: 0px 1px 2px rgba(60, 64, 67, 0.3), 0px 1px 3px 1px rgba(60, 64, 67, 0.15);\n",
              "      fill: #174EA6;\n",
              "    }\n",
              "\n",
              "    [theme=dark] .colab-df-convert {\n",
              "      background-color: #3B4455;\n",
              "      fill: #D2E3FC;\n",
              "    }\n",
              "\n",
              "    [theme=dark] .colab-df-convert:hover {\n",
              "      background-color: #434B5C;\n",
              "      box-shadow: 0px 1px 3px 1px rgba(0, 0, 0, 0.15);\n",
              "      filter: drop-shadow(0px 1px 2px rgba(0, 0, 0, 0.3));\n",
              "      fill: #FFFFFF;\n",
              "    }\n",
              "  </style>\n",
              "\n",
              "      <script>\n",
              "        const buttonEl =\n",
              "          document.querySelector('#df-63a69b8f-7f55-4c61-a9f9-0024c445cec3 button.colab-df-convert');\n",
              "        buttonEl.style.display =\n",
              "          google.colab.kernel.accessAllowed ? 'block' : 'none';\n",
              "\n",
              "        async function convertToInteractive(key) {\n",
              "          const element = document.querySelector('#df-63a69b8f-7f55-4c61-a9f9-0024c445cec3');\n",
              "          const dataTable =\n",
              "            await google.colab.kernel.invokeFunction('convertToInteractive',\n",
              "                                                     [key], {});\n",
              "          if (!dataTable) return;\n",
              "\n",
              "          const docLinkHtml = 'Like what you see? Visit the ' +\n",
              "            '<a target=\"_blank\" href=https://colab.research.google.com/notebooks/data_table.ipynb>data table notebook</a>'\n",
              "            + ' to learn more about interactive tables.';\n",
              "          element.innerHTML = '';\n",
              "          dataTable['output_type'] = 'display_data';\n",
              "          await google.colab.output.renderOutput(dataTable, element);\n",
              "          const docLink = document.createElement('div');\n",
              "          docLink.innerHTML = docLinkHtml;\n",
              "          element.appendChild(docLink);\n",
              "        }\n",
              "      </script>\n",
              "    </div>\n",
              "  </div>\n",
              "  "
            ]
          },
          "metadata": {},
          "execution_count": 17
        }
      ]
    },
    {
      "cell_type": "markdown",
      "source": [
        "Vemos cómo aparecen las diferentes notas de la octava agrupando por tono."
      ],
      "metadata": {
        "id": "Z9PJ_DM4v052"
      }
    },
    {
      "cell_type": "code",
      "source": [
        "plt.figure(figsize=(20, 4))\n",
        "for i in range(1,12):\n",
        "  plt.hist(histo_oct[i], alpha=0.5, label=notas_en_una_octava[i])\n",
        "plt.legend()\n",
        "plt.xlabel('Tono')\n",
        "plt.ylabel('Frecuencia')"
      ],
      "metadata": {
        "colab": {
          "base_uri": "https://localhost:8080/",
          "height": 297
        },
        "id": "GaWBd5pTm7O6",
        "outputId": "86577734-ed91-41e6-c0aa-3455869fbd9f"
      },
      "execution_count": 18,
      "outputs": [
        {
          "output_type": "execute_result",
          "data": {
            "text/plain": [
              "Text(0, 0.5, 'Frecuencia')"
            ]
          },
          "metadata": {},
          "execution_count": 18
        },
        {
          "output_type": "display_data",
          "data": {
            "text/plain": [
              "<Figure size 1440x288 with 1 Axes>"
            ],
            "image/png": "[encoded data removed]"
          },
          "metadata": {
            "needs_background": "light"
          }
        }
      ]
    },
    {
      "cell_type": "markdown",
      "source": [
        "Se ve en la gráfica que hay notas que parece que no aparecen en el gráfico dado que hay un número muy cercano en la posición cero al número total de datos (106).\n",
        "\n",
        "Creamos ahora un gráfico eliminando el valor cero, para comprobarlo."
      ],
      "metadata": {
        "id": "iseR8S5BwOIQ"
      }
    },
    {
      "cell_type": "code",
      "source": [
        "plt.figure(figsize=(20, 4))\n",
        "for i in range(1,12):\n",
        "  plt.hist(histo_oct[i], alpha=0.5, label=notas_en_una_octava[i])\n",
        "plt.legend()\n",
        "plt.xlim(1,30)\n",
        "plt.xlabel('Tono')\n",
        "plt.ylabel('Frecuencia')\n"
      ],
      "metadata": {
        "colab": {
          "base_uri": "https://localhost:8080/",
          "height": 297
        },
        "id": "y3NttNkFw1Wk",
        "outputId": "ec93fc4d-2fbf-4f20-f757-e8eed6c5aeeb"
      },
      "execution_count": 19,
      "outputs": [
        {
          "output_type": "execute_result",
          "data": {
            "text/plain": [
              "Text(0, 0.5, 'Frecuencia')"
            ]
          },
          "metadata": {},
          "execution_count": 19
        },
        {
          "output_type": "display_data",
          "data": {
            "text/plain": [
              "<Figure size 1440x288 with 1 Axes>"
            ],
            "image/png": "[encoded data removed]"
          },
          "metadata": {
            "needs_background": "light"
          }
        }
      ]
    },
    {
      "cell_type": "code",
      "source": [
        "def pitches_to_ocurrences(oct):\n",
        "  return (oct > 0).astype(int)\n",
        "\n",
        "def get_occurrences_in_octave(histo_oct):\n",
        "  i = np.zeros(12)\n",
        "  for oct in range(histo_oct.shape[1]):\n",
        "    tmp = pitches_to_ocurrences(histo_oct[:,oct])\n",
        "    i = i + tmp\n",
        "  return i.reshape((1,12))\n",
        "\n",
        "def xxx(histo_bar):\n",
        "  occurrences_in_octaves = np.empty((1,12))\n",
        "  octaves = histo_bar.shape[0]\n",
        "  for octave in range(1, octaves):\n",
        "    histo_oct = mf.histo_bar_to_histo_oct(histo_bar, 12)\n",
        "    freq = get_occurrences_in_octave(histo_oct)\n",
        "    occurrences_in_octaves = np.append(occurrences_in_octaves, freq, axis=0)\n",
        "\n",
        "  print(occurrences_in_octaves.shape)\n",
        "  df = pd.DataFrame(occurrences_in_octaves, columns=notas_en_una_octava)\n",
        "  return df\n",
        "\n",
        "def one_octave(histo_bar):\n",
        "  octave = 12\n",
        "  histo_oct = mf.histo_bar_to_histo_oct(histo_bar, octave)\n",
        "  freq = get_occurrences_in_octave(histo_oct)\n",
        "  df = pd.DataFrame(freq, columns=notas_en_una_octava)\n",
        "  return df\n",
        "\n",
        "df = one_octave(histo_bar)\n",
        "df.head()"
      ],
      "metadata": {
        "colab": {
          "base_uri": "https://localhost:8080/",
          "height": 81
        },
        "id": "FE5ENv32xi6n",
        "outputId": "1e75d963-69df-4dfa-d936-432d627eea37"
      },
      "execution_count": 20,
      "outputs": [
        {
          "output_type": "execute_result",
          "data": {
            "text/plain": [
              "      C    C#     D    D#     E     F    F#     G   G#     A   A#     B\n",
              "0  50.0  11.0  51.0  10.0  48.0  24.0  31.0  50.0  9.0  57.0  9.0  59.0"
            ],
            "text/html": [
              "\n",
              "  <div id=\"df-25050317-33fb-42a3-aafa-a73917b86850\">\n",
              "    <div class=\"colab-df-container\">\n",
              "      <div>\n",
              "<style scoped>\n",
              "    .dataframe tbody tr th:only-of-type {\n",
              "        vertical-align: middle;\n",
              "    }\n",
              "\n",
              "    .dataframe tbody tr th {\n",
              "        vertical-align: top;\n",
              "    }\n",
              "\n",
              "    .dataframe thead th {\n",
              "        text-align: right;\n",
              "    }\n",
              "</style>\n",
              "<table border=\"1\" class=\"dataframe\">\n",
              "  <thead>\n",
              "    <tr style=\"text-align: right;\">\n",
              "      <th></th>\n",
              "      <th>C</th>\n",
              "      <th>C#</th>\n",
              "      <th>D</th>\n",
              "      <th>D#</th>\n",
              "      <th>E</th>\n",
              "      <th>F</th>\n",
              "      <th>F#</th>\n",
              "      <th>G</th>\n",
              "      <th>G#</th>\n",
              "      <th>A</th>\n",
              "      <th>A#</th>\n",
              "      <th>B</th>\n",
              "    </tr>\n",
              "  </thead>\n",
              "  <tbody>\n",
              "    <tr>\n",
              "      <th>0</th>\n",
              "      <td>50.0</td>\n",
              "      <td>11.0</td>\n",
              "      <td>51.0</td>\n",
              "      <td>10.0</td>\n",
              "      <td>48.0</td>\n",
              "      <td>24.0</td>\n",
              "      <td>31.0</td>\n",
              "      <td>50.0</td>\n",
              "      <td>9.0</td>\n",
              "      <td>57.0</td>\n",
              "      <td>9.0</td>\n",
              "      <td>59.0</td>\n",
              "    </tr>\n",
              "  </tbody>\n",
              "</table>\n",
              "</div>\n",
              "      <button class=\"colab-df-convert\" onclick=\"convertToInteractive('df-25050317-33fb-42a3-aafa-a73917b86850')\"\n",
              "              title=\"Convert this dataframe to an interactive table.\"\n",
              "              style=\"display:none;\">\n",
              "        \n",
              "  <svg xmlns=\"http://www.w3.org/2000/svg\" height=\"24px\"viewBox=\"0 0 24 24\"\n",
              "       width=\"24px\">\n",
              "    <path d=\"M0 0h24v24H0V0z\" fill=\"none\"/>\n",
              "    <path d=\"M18.56 5.44l.94 2.06.94-2.06 2.06-.94-2.06-.94-.94-2.06-.94 2.06-2.06.94zm-11 1L8.5 8.5l.94-2.06 2.06-.94-2.06-.94L8.5 2.5l-.94 2.06-2.06.94zm10 10l.94 2.06.94-2.06 2.06-.94-2.06-.94-.94-2.06-.94 2.06-2.06.94z\"/><path d=\"M17.41 7.96l-1.37-1.37c-.4-.4-.92-.59-1.43-.59-.52 0-1.04.2-1.43.59L10.3 9.45l-7.72 7.72c-.78.78-.78 2.05 0 2.83L4 21.41c.39.39.9.59 1.41.59.51 0 1.02-.2 1.41-.59l7.78-7.78 2.81-2.81c.8-.78.8-2.07 0-2.86zM5.41 20L4 18.59l7.72-7.72 1.47 1.35L5.41 20z\"/>\n",
              "  </svg>\n",
              "      </button>\n",
              "      \n",
              "  <style>\n",
              "    .colab-df-container {\n",
              "      display:flex;\n",
              "      flex-wrap:wrap;\n",
              "      gap: 12px;\n",
              "    }\n",
              "\n",
              "    .colab-df-convert {\n",
              "      background-color: #E8F0FE;\n",
              "      border: none;\n",
              "      border-radius: 50%;\n",
              "      cursor: pointer;\n",
              "      display: none;\n",
              "      fill: #1967D2;\n",
              "      height: 32px;\n",
              "      padding: 0 0 0 0;\n",
              "      width: 32px;\n",
              "    }\n",
              "\n",
              "    .colab-df-convert:hover {\n",
              "      background-color: #E2EBFA;\n",
              "      box-shadow: 0px 1px 2px rgba(60, 64, 67, 0.3), 0px 1px 3px 1px rgba(60, 64, 67, 0.15);\n",
              "      fill: #174EA6;\n",
              "    }\n",
              "\n",
              "    [theme=dark] .colab-df-convert {\n",
              "      background-color: #3B4455;\n",
              "      fill: #D2E3FC;\n",
              "    }\n",
              "\n",
              "    [theme=dark] .colab-df-convert:hover {\n",
              "      background-color: #434B5C;\n",
              "      box-shadow: 0px 1px 3px 1px rgba(0, 0, 0, 0.15);\n",
              "      filter: drop-shadow(0px 1px 2px rgba(0, 0, 0, 0.3));\n",
              "      fill: #FFFFFF;\n",
              "    }\n",
              "  </style>\n",
              "\n",
              "      <script>\n",
              "        const buttonEl =\n",
              "          document.querySelector('#df-25050317-33fb-42a3-aafa-a73917b86850 button.colab-df-convert');\n",
              "        buttonEl.style.display =\n",
              "          google.colab.kernel.accessAllowed ? 'block' : 'none';\n",
              "\n",
              "        async function convertToInteractive(key) {\n",
              "          const element = document.querySelector('#df-25050317-33fb-42a3-aafa-a73917b86850');\n",
              "          const dataTable =\n",
              "            await google.colab.kernel.invokeFunction('convertToInteractive',\n",
              "                                                     [key], {});\n",
              "          if (!dataTable) return;\n",
              "\n",
              "          const docLinkHtml = 'Like what you see? Visit the ' +\n",
              "            '<a target=\"_blank\" href=https://colab.research.google.com/notebooks/data_table.ipynb>data table notebook</a>'\n",
              "            + ' to learn more about interactive tables.';\n",
              "          element.innerHTML = '';\n",
              "          dataTable['output_type'] = 'display_data';\n",
              "          await google.colab.output.renderOutput(dataTable, element);\n",
              "          const docLink = document.createElement('div');\n",
              "          docLink.innerHTML = docLinkHtml;\n",
              "          element.appendChild(docLink);\n",
              "        }\n",
              "      </script>\n",
              "    </div>\n",
              "  </div>\n",
              "  "
            ]
          },
          "metadata": {},
          "execution_count": 20
        }
      ]
    },
    {
      "cell_type": "code",
      "source": [
        "def aggregate_occurrences(histo_oct):\n",
        "  n = np.zeros(12)\n",
        "  for i in range(0,12):\n",
        "    n[i] = np.sum(histo_oct[i])\n",
        "  return n\n",
        "\n",
        "freqs = aggregate_occurrences(histo_oct)\n",
        "df = pd.DataFrame(freqs.reshape(1,12), columns=notas_en_una_octava)\n",
        "df.head()\n"
      ],
      "metadata": {
        "colab": {
          "base_uri": "https://localhost:8080/",
          "height": 81
        },
        "id": "no1GQ0zC0TUX",
        "outputId": "1accdeb3-8109-4862-f69e-2f388295b813"
      },
      "execution_count": 21,
      "outputs": [
        {
          "output_type": "execute_result",
          "data": {
            "text/plain": [
              "       C    C#      D    D#      E      F     F#      G    G#      A    A#  \\\n",
              "0  258.0  24.0  414.0  33.0  334.0  201.0  169.0  424.0  26.0  379.0  16.0   \n",
              "\n",
              "       B  \n",
              "0  414.0  "
            ],
            "text/html": [
              "\n",
              "  <div id=\"df-84d49c6c-1937-458f-895b-4406ee68096e\">\n",
              "    <div class=\"colab-df-container\">\n",
              "      <div>\n",
              "<style scoped>\n",
              "    .dataframe tbody tr th:only-of-type {\n",
              "        vertical-align: middle;\n",
              "    }\n",
              "\n",
              "    .dataframe tbody tr th {\n",
              "        vertical-align: top;\n",
              "    }\n",
              "\n",
              "    .dataframe thead th {\n",
              "        text-align: right;\n",
              "    }\n",
              "</style>\n",
              "<table border=\"1\" class=\"dataframe\">\n",
              "  <thead>\n",
              "    <tr style=\"text-align: right;\">\n",
              "      <th></th>\n",
              "      <th>C</th>\n",
              "      <th>C#</th>\n",
              "      <th>D</th>\n",
              "      <th>D#</th>\n",
              "      <th>E</th>\n",
              "      <th>F</th>\n",
              "      <th>F#</th>\n",
              "      <th>G</th>\n",
              "      <th>G#</th>\n",
              "      <th>A</th>\n",
              "      <th>A#</th>\n",
              "      <th>B</th>\n",
              "    </tr>\n",
              "  </thead>\n",
              "  <tbody>\n",
              "    <tr>\n",
              "      <th>0</th>\n",
              "      <td>258.0</td>\n",
              "      <td>24.0</td>\n",
              "      <td>414.0</td>\n",
              "      <td>33.0</td>\n",
              "      <td>334.0</td>\n",
              "      <td>201.0</td>\n",
              "      <td>169.0</td>\n",
              "      <td>424.0</td>\n",
              "      <td>26.0</td>\n",
              "      <td>379.0</td>\n",
              "      <td>16.0</td>\n",
              "      <td>414.0</td>\n",
              "    </tr>\n",
              "  </tbody>\n",
              "</table>\n",
              "</div>\n",
              "      <button class=\"colab-df-convert\" onclick=\"convertToInteractive('df-84d49c6c-1937-458f-895b-4406ee68096e')\"\n",
              "              title=\"Convert this dataframe to an interactive table.\"\n",
              "              style=\"display:none;\">\n",
              "        \n",
              "  <svg xmlns=\"http://www.w3.org/2000/svg\" height=\"24px\"viewBox=\"0 0 24 24\"\n",
              "       width=\"24px\">\n",
              "    <path d=\"M0 0h24v24H0V0z\" fill=\"none\"/>\n",
              "    <path d=\"M18.56 5.44l.94 2.06.94-2.06 2.06-.94-2.06-.94-.94-2.06-.94 2.06-2.06.94zm-11 1L8.5 8.5l.94-2.06 2.06-.94-2.06-.94L8.5 2.5l-.94 2.06-2.06.94zm10 10l.94 2.06.94-2.06 2.06-.94-2.06-.94-.94-2.06-.94 2.06-2.06.94z\"/><path d=\"M17.41 7.96l-1.37-1.37c-.4-.4-.92-.59-1.43-.59-.52 0-1.04.2-1.43.59L10.3 9.45l-7.72 7.72c-.78.78-.78 2.05 0 2.83L4 21.41c.39.39.9.59 1.41.59.51 0 1.02-.2 1.41-.59l7.78-7.78 2.81-2.81c.8-.78.8-2.07 0-2.86zM5.41 20L4 18.59l7.72-7.72 1.47 1.35L5.41 20z\"/>\n",
              "  </svg>\n",
              "      </button>\n",
              "      \n",
              "  <style>\n",
              "    .colab-df-container {\n",
              "      display:flex;\n",
              "      flex-wrap:wrap;\n",
              "      gap: 12px;\n",
              "    }\n",
              "\n",
              "    .colab-df-convert {\n",
              "      background-color: #E8F0FE;\n",
              "      border: none;\n",
              "      border-radius: 50%;\n",
              "      cursor: pointer;\n",
              "      display: none;\n",
              "      fill: #1967D2;\n",
              "      height: 32px;\n",
              "      padding: 0 0 0 0;\n",
              "      width: 32px;\n",
              "    }\n",
              "\n",
              "    .colab-df-convert:hover {\n",
              "      background-color: #E2EBFA;\n",
              "      box-shadow: 0px 1px 2px rgba(60, 64, 67, 0.3), 0px 1px 3px 1px rgba(60, 64, 67, 0.15);\n",
              "      fill: #174EA6;\n",
              "    }\n",
              "\n",
              "    [theme=dark] .colab-df-convert {\n",
              "      background-color: #3B4455;\n",
              "      fill: #D2E3FC;\n",
              "    }\n",
              "\n",
              "    [theme=dark] .colab-df-convert:hover {\n",
              "      background-color: #434B5C;\n",
              "      box-shadow: 0px 1px 3px 1px rgba(0, 0, 0, 0.15);\n",
              "      filter: drop-shadow(0px 1px 2px rgba(0, 0, 0, 0.3));\n",
              "      fill: #FFFFFF;\n",
              "    }\n",
              "  </style>\n",
              "\n",
              "      <script>\n",
              "        const buttonEl =\n",
              "          document.querySelector('#df-84d49c6c-1937-458f-895b-4406ee68096e button.colab-df-convert');\n",
              "        buttonEl.style.display =\n",
              "          google.colab.kernel.accessAllowed ? 'block' : 'none';\n",
              "\n",
              "        async function convertToInteractive(key) {\n",
              "          const element = document.querySelector('#df-84d49c6c-1937-458f-895b-4406ee68096e');\n",
              "          const dataTable =\n",
              "            await google.colab.kernel.invokeFunction('convertToInteractive',\n",
              "                                                     [key], {});\n",
              "          if (!dataTable) return;\n",
              "\n",
              "          const docLinkHtml = 'Like what you see? Visit the ' +\n",
              "            '<a target=\"_blank\" href=https://colab.research.google.com/notebooks/data_table.ipynb>data table notebook</a>'\n",
              "            + ' to learn more about interactive tables.';\n",
              "          element.innerHTML = '';\n",
              "          dataTable['output_type'] = 'display_data';\n",
              "          await google.colab.output.renderOutput(dataTable, element);\n",
              "          const docLink = document.createElement('div');\n",
              "          docLink.innerHTML = docLinkHtml;\n",
              "          element.appendChild(docLink);\n",
              "        }\n",
              "      </script>\n",
              "    </div>\n",
              "  </div>\n",
              "  "
            ]
          },
          "metadata": {},
          "execution_count": 21
        }
      ]
    },
    {
      "cell_type": "code",
      "source": [
        "df.plot.bar()"
      ],
      "metadata": {
        "colab": {
          "base_uri": "https://localhost:8080/",
          "height": 279
        },
        "id": "WRmP-OZF7D5l",
        "outputId": "819b29e8-ddbe-4b99-a19e-4f3eb4f628ac"
      },
      "execution_count": 22,
      "outputs": [
        {
          "output_type": "execute_result",
          "data": {
            "text/plain": [
              "<matplotlib.axes._subplots.AxesSubplot at 0x7fb66b65f3d0>"
            ]
          },
          "metadata": {},
          "execution_count": 22
        },
        {
          "output_type": "display_data",
          "data": {
            "text/plain": [
              "<Figure size 432x288 with 1 Axes>"
            ],
            "image/png": "[encoded data removed]"
          },
          "metadata": {
            "needs_background": "light"
          }
        }
      ]
    },
    {
      "cell_type": "code",
      "source": [
        "plt.figure(figsize=(20, 4))\n",
        "plt.hist(histo_bar)"
      ],
      "metadata": {
        "colab": {
          "base_uri": "https://localhost:8080/",
          "height": 1000
        },
        "id": "Xh2-pnU1-rtb",
        "outputId": "572a15a6-41e8-43d2-b293-8684ae82e06d"
      },
      "execution_count": 23,
      "outputs": [
        {
          "output_type": "execute_result",
          "data": {
            "text/plain": [
              "(array([[128.,   0.,   0.,   0.,   0.,   0.,   0.,   0.,   0.,   0.],\n",
              "        [125.,   2.,   1.,   0.,   0.,   0.,   0.,   0.,   0.,   0.],\n",
              "        [114.,   2.,   3.,   4.,   0.,   4.,   1.,   0.,   0.,   0.],\n",
              "        [114.,   2.,   3.,   4.,   0.,   3.,   2.,   0.,   0.,   0.],\n",
              "        [114.,   2.,   7.,   2.,   0.,   2.,   1.,   0.,   0.,   0.],\n",
              "        [115.,   4.,   3.,   0.,   0.,   0.,   0.,   3.,   2.,   1.],\n",
              "        [117.,   4.,   1.,   1.,   0.,   0.,   2.,   2.,   1.,   0.],\n",
              "        [115.,   5.,   2.,   2.,   0.,   1.,   1.,   1.,   1.,   0.],\n",
              "        [118.,   2.,   0.,   4.,   0.,   1.,   3.,   0.,   0.,   0.],\n",
              "        [116.,   7.,   1.,   2.,   0.,   1.,   0.,   1.,   0.,   0.],\n",
              "        [121.,   2.,   1.,   0.,   0.,   1.,   1.,   1.,   0.,   1.],\n",
              "        [115.,   6.,   2.,   2.,   0.,   1.,   0.,   2.,   0.,   0.],\n",
              "        [119.,   3.,   2.,   0.,   0.,   1.,   0.,   2.,   1.,   0.],\n",
              "        [117.,   3.,   0.,   3.,   0.,   2.,   3.,   0.,   0.,   0.],\n",
              "        [121.,   2.,   0.,   1.,   0.,   0.,   2.,   0.,   2.,   0.],\n",
              "        [120.,   2.,   0.,   1.,   0.,   1.,   1.,   2.,   0.,   1.],\n",
              "        [116.,   4.,   1.,   2.,   0.,   0.,   3.,   1.,   1.,   0.],\n",
              "        [117.,   2.,   2.,   3.,   0.,   2.,   1.,   0.,   1.,   0.],\n",
              "        [117.,   3.,   1.,   2.,   0.,   1.,   0.,   3.,   1.,   0.],\n",
              "        [116.,   5.,   1.,   1.,   0.,   2.,   1.,   1.,   1.,   0.],\n",
              "        [123.,   2.,   0.,   0.,   0.,   0.,   0.,   1.,   0.,   2.],\n",
              "        [122.,   1.,   1.,   1.,   0.,   0.,   0.,   2.,   1.,   0.],\n",
              "        [118.,   2.,   0.,   1.,   0.,   1.,   2.,   1.,   1.,   2.],\n",
              "        [115.,   3.,   3.,   2.,   0.,   2.,   2.,   1.,   0.,   0.],\n",
              "        [117.,   2.,   0.,   2.,   0.,   1.,   4.,   2.,   0.,   0.],\n",
              "        [117.,   2.,   4.,   1.,   0.,   1.,   2.,   0.,   1.,   0.],\n",
              "        [117.,   5.,   1.,   1.,   0.,   0.,   0.,   2.,   1.,   1.],\n",
              "        [114.,   5.,   2.,   2.,   0.,   2.,   1.,   1.,   0.,   1.],\n",
              "        [118.,   4.,   0.,   1.,   0.,   1.,   1.,   0.,   1.,   2.],\n",
              "        [111.,   7.,   5.,   0.,   0.,   2.,   2.,   0.,   0.,   1.],\n",
              "        [117.,   2.,   3.,   0.,   0.,   0.,   3.,   0.,   1.,   2.],\n",
              "        [116.,   1.,   3.,   2.,   0.,   1.,   2.,   1.,   0.,   2.],\n",
              "        [115.,   4.,   1.,   1.,   0.,   2.,   2.,   0.,   2.,   1.],\n",
              "        [113.,   2.,   6.,   3.,   0.,   1.,   2.,   1.,   0.,   0.],\n",
              "        [112.,   9.,   0.,   1.,   0.,   0.,   3.,   1.,   2.,   0.],\n",
              "        [112.,   8.,   1.,   4.,   0.,   0.,   1.,   1.,   1.,   0.],\n",
              "        [117.,   3.,   0.,   0.,   0.,   1.,   3.,   1.,   2.,   1.],\n",
              "        [115.,   4.,   2.,   1.,   0.,   1.,   4.,   1.,   0.,   0.],\n",
              "        [119.,   0.,   2.,   0.,   0.,   1.,   1.,   2.,   1.,   2.],\n",
              "        [115.,   0.,   4.,   3.,   0.,   1.,   1.,   0.,   1.,   3.],\n",
              "        [114.,   2.,   2.,   4.,   0.,   4.,   1.,   0.,   0.,   1.],\n",
              "        [114.,   2.,   3.,   4.,   0.,   3.,   2.,   0.,   0.,   0.],\n",
              "        [114.,   2.,   7.,   2.,   0.,   2.,   1.,   0.,   0.,   0.],\n",
              "        [113.,   6.,   3.,   0.,   0.,   0.,   0.,   3.,   2.,   1.],\n",
              "        [116.,   3.,   0.,   2.,   0.,   1.,   3.,   0.,   1.,   2.],\n",
              "        [115.,   3.,   2.,   4.,   0.,   2.,   1.,   1.,   0.,   0.],\n",
              "        [116.,   3.,   1.,   1.,   0.,   1.,   3.,   3.,   0.,   0.],\n",
              "        [117.,   2.,   4.,   0.,   0.,   3.,   1.,   0.,   1.,   0.],\n",
              "        [117.,   4.,   2.,   2.,   0.,   0.,   0.,   1.,   1.,   1.],\n",
              "        [114.,   5.,   3.,   1.,   0.,   1.,   2.,   1.,   0.,   1.],\n",
              "        [114.,   6.,   2.,   1.,   0.,   1.,   1.,   0.,   1.,   2.],\n",
              "        [109.,   8.,   3.,   2.,   0.,   2.,   2.,   0.,   1.,   1.],\n",
              "        [115.,   3.,   4.,   0.,   0.,   0.,   3.,   0.,   0.,   3.],\n",
              "        [116.,   1.,   3.,   2.,   0.,   2.,   2.,   0.,   0.,   2.],\n",
              "        [115.,   4.,   0.,   2.,   0.,   1.,   3.,   0.,   2.,   1.],\n",
              "        [113.,   2.,   5.,   4.,   0.,   1.,   1.,   2.,   0.,   0.],\n",
              "        [112.,  10.,   0.,   0.,   0.,   0.,   4.,   1.,   1.,   0.],\n",
              "        [113.,   7.,   1.,   2.,   0.,   1.,   2.,   1.,   1.,   0.],\n",
              "        [117.,   3.,   0.,   0.,   0.,   1.,   3.,   1.,   1.,   2.],\n",
              "        [115.,   3.,   3.,   1.,   0.,   1.,   4.,   1.,   0.,   0.],\n",
              "        [119.,   0.,   1.,   1.,   0.,   1.,   1.,   2.,   1.,   2.],\n",
              "        [114.,   2.,   3.,   3.,   0.,   2.,   0.,   0.,   1.,   3.],\n",
              "        [115.,   3.,   1.,   3.,   0.,   4.,   1.,   0.,   0.,   1.],\n",
              "        [114.,   3.,   3.,   4.,   0.,   2.,   2.,   0.,   0.,   0.],\n",
              "        [114.,   2.,   8.,   1.,   0.,   2.,   1.,   0.,   0.,   0.],\n",
              "        [113.,   7.,   2.,   0.,   0.,   0.,   0.,   2.,   2.,   2.],\n",
              "        [123.,   0.,   0.,   0.,   0.,   0.,   0.,   0.,   0.,   5.]]),\n",
              " array([0. , 0.8, 1.6, 2.4, 3.2, 4. , 4.8, 5.6, 6.4, 7.2, 8. ]),\n",
              " <a list of 67 Lists of Patches objects>)"
            ]
          },
          "metadata": {},
          "execution_count": 23
        },
        {
          "output_type": "display_data",
          "data": {
            "text/plain": [
              "<Figure size 1440x288 with 1 Axes>"
            ],
            "image/png": "[encoded data removed]"
          },
          "metadata": {
            "needs_background": "light"
          }
        }
      ]
    },
    {
      "cell_type": "code",
      "source": [
        ""
      ],
      "metadata": {
        "id": "Stmpj1PVKTPF"
      },
      "execution_count": 23,
      "outputs": []
    },
    {
      "cell_type": "code",
      "source": [
        "x1 = df.C\n",
        "\n",
        "kwargs = dict(alpha=0.5)\n",
        "\n",
        "plt.hist(x1, **kwargs, color='g', label='C')\n",
        "\n",
        "plt.gca().set(title='Frequency Histogram of Diamond Depths', ylabel='Frequency')\n",
        "#plt.xlim(50,75)\n",
        "plt.legend();"
      ],
      "metadata": {
        "colab": {
          "base_uri": "https://localhost:8080/",
          "height": 281
        },
        "id": "CKL0WpSPiQFI",
        "outputId": "c9238818-afee-4d21-e0ec-ac01317821e0"
      },
      "execution_count": 24,
      "outputs": [
        {
          "output_type": "display_data",
          "data": {
            "text/plain": [
              "<Figure size 432x288 with 1 Axes>"
            ],
            "image/png": "[encoded data removed]"
          },
          "metadata": {
            "needs_background": "light"
          }
        }
      ]
    },
    {
      "cell_type": "code",
      "source": [
        "\n",
        "plt.figure(figsize=(20, 4))\n",
        "\n",
        "plt.hist(i.reshape(1,-1))\n",
        "plt.legend()"
      ],
      "metadata": {
        "colab": {
          "base_uri": "https://localhost:8080/",
          "height": 237
        },
        "id": "PWYhWNyz86lA",
        "outputId": "49c97416-9675-4502-f527-d0efe95135c2"
      },
      "execution_count": 25,
      "outputs": [
        {
          "output_type": "error",
          "ename": "AttributeError",
          "evalue": "ignored",
          "traceback": [
            "\u001b[0;31m---------------------------------------------------------------------------\u001b[0m",
            "\u001b[0;31mAttributeError\u001b[0m                            Traceback (most recent call last)",
            "\u001b[0;32m<ipython-input-25-17decc058c3c>\u001b[0m in \u001b[0;36m<module>\u001b[0;34m()\u001b[0m\n\u001b[1;32m      2\u001b[0m \u001b[0mplt\u001b[0m\u001b[0;34m.\u001b[0m\u001b[0mfigure\u001b[0m\u001b[0;34m(\u001b[0m\u001b[0mfigsize\u001b[0m\u001b[0;34m=\u001b[0m\u001b[0;34m(\u001b[0m\u001b[0;36m20\u001b[0m\u001b[0;34m,\u001b[0m \u001b[0;36m4\u001b[0m\u001b[0;34m)\u001b[0m\u001b[0;34m)\u001b[0m\u001b[0;34m\u001b[0m\u001b[0;34m\u001b[0m\u001b[0m\n\u001b[1;32m      3\u001b[0m \u001b[0;34m\u001b[0m\u001b[0m\n\u001b[0;32m----> 4\u001b[0;31m \u001b[0mplt\u001b[0m\u001b[0;34m.\u001b[0m\u001b[0mhist\u001b[0m\u001b[0;34m(\u001b[0m\u001b[0mi\u001b[0m\u001b[0;34m.\u001b[0m\u001b[0mreshape\u001b[0m\u001b[0;34m(\u001b[0m\u001b[0;36m1\u001b[0m\u001b[0;34m,\u001b[0m\u001b[0;34m-\u001b[0m\u001b[0;36m1\u001b[0m\u001b[0;34m)\u001b[0m\u001b[0;34m)\u001b[0m\u001b[0;34m\u001b[0m\u001b[0;34m\u001b[0m\u001b[0m\n\u001b[0m\u001b[1;32m      5\u001b[0m \u001b[0mplt\u001b[0m\u001b[0;34m.\u001b[0m\u001b[0mlegend\u001b[0m\u001b[0;34m(\u001b[0m\u001b[0;34m)\u001b[0m\u001b[0;34m\u001b[0m\u001b[0;34m\u001b[0m\u001b[0m\n",
            "\u001b[0;31mAttributeError\u001b[0m: 'int' object has no attribute 'reshape'"
          ]
        },
        {
          "output_type": "display_data",
          "data": {
            "text/plain": [
              "<Figure size 1440x288 with 0 Axes>"
            ]
          },
          "metadata": {}
        }
      ]
    },
    {
      "cell_type": "markdown",
      "source": [
        "1.3.3 Buscar en internet sobre las escalas musicales e indicar que escala es la que más aparece en todas las canciones analizadas. ¿Cuáles dirías que son las notas más importantes de la escala?"
      ],
      "metadata": {
        "id": "RWEqYiSwDNse"
      }
    },
    {
      "cell_type": "markdown",
      "source": [
        ""
      ],
      "metadata": {
        "id": "dz7cVn0uCkYT"
      }
    },
    {
      "cell_type": "markdown",
      "source": [
        "#2. LSTM para acordes [5 pts]"
      ],
      "metadata": {
        "id": "r4r3sBgKy8bG"
      }
    },
    {
      "cell_type": "markdown",
      "source": [
        "El siguiente paso en el artículo es el entrenamiento de una red LSTM para la generación de acordes. Esta parte la haremos con un data set más pequeño y lo compararemos con resultados de entrenamientos previos que os faciliaremos. Primero cargamos la librerias que necesitaremos"
      ],
      "metadata": {
        "id": "Z6wMsYrIzPMI"
      }
    },
    {
      "cell_type": "code",
      "source": [
        "from keras.models import Sequential\n",
        "from keras.layers import LSTM\n",
        "from keras.layers import Dense, Activation\n",
        "from keras.layers import Embedding\n",
        "from tensorflow.keras.optimizers import RMSprop, Adam\n",
        "import tensorflow as tf\n",
        "from tensorflow.compat.v1.keras.backend import set_session\n",
        "import keras.utils\n",
        "from keras.utils import np_utils\n",
        "from random import shuffle\n",
        "import progressbar\n",
        "import time"
      ],
      "metadata": {
        "id": "W_WNRwExGMqc"
      },
      "execution_count": 26,
      "outputs": []
    },
    {
      "cell_type": "markdown",
      "source": [
        "## 2.1 Carga de datos [0.5 pts]"
      ],
      "metadata": {
        "id": "W5pcyB6d0VIJ"
      }
    },
    {
      "cell_type": "markdown",
      "source": [
        "2.1.1 En la carpeta ***data*** encontraréis un fichero llamado ***dataset.pkl*** que contiene 11338 canciones de train y 3780 de test. Usando *pickle* cargar los datos y luego separar 2000 para *train* y 500 canciones para *test* en las variables: \n",
        "*   train_set\n",
        "*   test_set\n",
        "\n",
        "crea además *train_set_size* y *test_set_size*"
      ],
      "metadata": {
        "id": "xFE6WSN70S8m"
      }
    },
    {
      "cell_type": "code",
      "source": [
        "infile = open('./data/dataset.pkl','rb')\n",
        "dataset = pickle.load(infile)\n",
        "infile.close()"
      ],
      "metadata": {
        "id": "b4oT9iNmCmFw"
      },
      "execution_count": 35,
      "outputs": []
    },
    {
      "cell_type": "code",
      "source": [
        "train_songs = dataset[0]\n",
        "assert len(train_songs) == 11338\n",
        "\n",
        "test_songs = dataset[1]\n",
        "assert len(test_songs) == 3780\n",
        "\n",
        "train_set = train_songs[0:2000]\n",
        "train_set_size = len(train_set)\n",
        "assert train_set_size == 2000\n",
        "\n",
        "test_set = test_songs[0:500]\n",
        "test_set_size = len(test_set)\n",
        "assert test_set_size == 500\n",
        "\n",
        "print(train_set_size, test_set_size)"
      ],
      "metadata": {
        "colab": {
          "base_uri": "https://localhost:8080/"
        },
        "id": "Tf2K37oknORp",
        "outputId": "a164ee71-6b3e-49ef-afde-f1a76fca16b2"
      },
      "execution_count": 36,
      "outputs": [
        {
          "output_type": "stream",
          "name": "stdout",
          "text": [
            "2000 500\n"
          ]
        }
      ]
    },
    {
      "cell_type": "markdown",
      "source": [
        "## 2.2 Modelo con una capa de ***Embedding*** [0.5 pts]"
      ],
      "metadata": {
        "id": "AweMb9yv352X"
      }
    },
    {
      "cell_type": "markdown",
      "source": [
        "2.2.1 Ahora definiremos los parámetros de nuestra red LSTM usando los parámetros que dan en el artículo. El único cambio será en el tamaño de la red LSTM, en la que usaremos la mitad de la LSTM del artículo y número de epochs que usaremos 10 en nuestro caso"
      ],
      "metadata": {
        "id": "-If6wor_3_YG"
      }
    },
    {
      "cell_type": "code",
      "source": [
        "batch_size = 1\n",
        "step_size = 1\n",
        "epochs = 10\n",
        "\n",
        "#completar\n",
        "lstm_size = 128\n",
        "learning_rate = 10**-5\n",
        "optimizer = Adam(lr=learning_rate)"
      ],
      "metadata": {
        "id": "JpqqH3X36URV",
        "colab": {
          "base_uri": "https://localhost:8080/"
        },
        "outputId": "227be474-762a-4956-8f4d-e4da7be586a0"
      },
      "execution_count": 29,
      "outputs": [
        {
          "output_type": "stream",
          "name": "stderr",
          "text": [
            "/usr/local/lib/python3.7/dist-packages/keras/optimizer_v2/adam.py:105: UserWarning: The `lr` argument is deprecated, use `learning_rate` instead.\n",
            "  super(Adam, self).__init__(name, **kwargs)\n"
          ]
        }
      ]
    },
    {
      "cell_type": "markdown",
      "source": [
        "El siguiente código es para mantener la estructura de carpetas que usan en el artículo ya que hay mucho código que depende de esta estructura:"
      ],
      "metadata": {
        "id": "WL28R7s_3f7w"
      }
    },
    {
      "cell_type": "code",
      "source": [
        "##--------NO TOCAR-------------------------------------------------------\n",
        "base_path = 'models/chords/'\n",
        "model_filetype = '.pickle'\n",
        "\n",
        "shuffle_train_set = True\n",
        "bidirectional = False\n",
        "\n",
        "#Create model dir\n",
        "fd = {'shifted': shifted, 'lr': learning_rate, 'emdim': chord_embedding_dim, 'opt': optimizer,\n",
        "'bi': bidirectional, 'lstms': lstm_size, 'trainsize': train_set_size, 'testsize': test_set_size, 'samples_per_bar': samples_per_bar}\n",
        "t = str(np.random.randint(1000,9999))\n",
        "model_name = t+ '-Shifted_%(shifted)s_Lr_%(lr)s_EmDim_%(emdim)s_opt_%(opt)s_bi_%(bi)s_lstmsize_%(lstms)s_trainsize_%(trainsize)s_testsize_%(testsize)s_samples_per_bar%(samples_per_bar)s' % fd\n",
        "model_path = base_path + model_name + '/'\n",
        "if not os.path.exists(model_path):\n",
        "    os.makedirs(model_path)\n",
        "##--------NO TOCAR-------------------------------------------------------\n"
      ],
      "metadata": {
        "id": "l1diXWzq3tun"
      },
      "execution_count": 30,
      "outputs": []
    },
    {
      "cell_type": "markdown",
      "source": [
        "2.2.2 Finalmente definimos y compilamos la red con una capa de Embedding antes de la LSTM. Para este paso, acceder al código original del artículo y buscar en que fichero se entrena la LSTM copiar la estructura eliminando código que no es de nuestro interés"
      ],
      "metadata": {
        "id": "PKt5WJ5d8YPb"
      }
    },
    {
      "cell_type": "code",
      "source": [
        "model = Sequential()\n",
        "model.add(Embedding(num_chords, chord_embedding_dim, input_length=step_size, name=\"embedding\", batch_input_shape=(batch_size,step_size)))\n",
        "# model.add(Embedding(num_chords, chord_embedding_dim, input_length=step_size))\n",
        "\n",
        "# if bidirectional: model.add(Bidirectional(LSTM(lstm_size, stateful=True)))\n",
        "# else: model.add(LSTM(lstm_size, stateful=True))\n",
        "model.add(LSTM(lstm_size, stateful=True))\n",
        "model.add(Dense(num_chords))\n",
        "model.add(Activation('softmax'))\n",
        "\n",
        "model.build()\n",
        "model.summary()"
      ],
      "metadata": {
        "id": "jlh6rMLuCn_Q",
        "colab": {
          "base_uri": "https://localhost:8080/"
        },
        "outputId": "e1b1044b-bb4f-4331-850c-8b6f054a5a3a"
      },
      "execution_count": 31,
      "outputs": [
        {
          "output_type": "stream",
          "name": "stdout",
          "text": [
            "Model: \"sequential\"\n",
            "_________________________________________________________________\n",
            " Layer (type)                Output Shape              Param #   \n",
            "=================================================================\n",
            " embedding (Embedding)       (1, 1, 10)                500       \n",
            "                                                                 \n",
            " lstm (LSTM)                 (1, 128)                  71168     \n",
            "                                                                 \n",
            " dense (Dense)               (1, 50)                   6450      \n",
            "                                                                 \n",
            " activation (Activation)     (1, 50)                   0         \n",
            "                                                                 \n",
            "=================================================================\n",
            "Total params: 78,118\n",
            "Trainable params: 78,118\n",
            "Non-trainable params: 0\n",
            "_________________________________________________________________\n"
          ]
        }
      ]
    },
    {
      "cell_type": "code",
      "source": [
        "loss = 'categorical_crossentropy'\n",
        "print(\"compiling model\")\n",
        "model.compile(optimizer, loss)"
      ],
      "metadata": {
        "colab": {
          "base_uri": "https://localhost:8080/"
        },
        "id": "xS7AZ3611LSw",
        "outputId": "c7b76010-dbe1-41c2-9dfc-46405d9fdd6b"
      },
      "execution_count": 32,
      "outputs": [
        {
          "output_type": "stream",
          "name": "stdout",
          "text": [
            "compiling model\n"
          ]
        }
      ]
    },
    {
      "cell_type": "markdown",
      "source": [
        "## 2.3 Entrenamiento [2 pts]"
      ],
      "metadata": {
        "id": "aMLDg6O1BNKK"
      }
    },
    {
      "cell_type": "markdown",
      "source": [
        "2.3.1 Siguiendo el código orginal del artículo donde se define la arquitectura de la LSTM para los acordes hay 3 funciones más:\n",
        "*   test()\n",
        "*   train()\n",
        "*   save_params()\n",
        "\n",
        "que nos serán de ayuda para el entrenamiento, testeo y para guardar los datos sobre el modelo entrenado. Guardaremos el valor de la ***loss*** tanto para test como para train cada 500 canciones, por lo que tendremos más de un punto por epoch. Modifica, si es necesario, las funciones *test()* y *train()* para que los ficheros de *total_test* y *total_train* dejen constancia de la epoch a la que pertenecen, esto te ayudará al graficar los datos más adelante.\n",
        "\n",
        "Añade, antes de cada función una cabecera explicando brevemente lo que ésta hace.\n",
        "\n",
        "---\n",
        "\n",
        "*nota: comprueba que has definido todas las variables necesarias para que las* *funciones no den error en mitad del entrenamiento. Comienza usando menos datos* *para agilizar el proceso y una vez funcione todo usa el set completo*"
      ],
      "metadata": {
        "id": "Ki3ULd3FBU8l"
      }
    },
    {
      "cell_type": "code",
      "source": [
        "epoch_array=[]\n",
        "total_test_loss_array = [] \n",
        "total_train_loss_array = []\n",
        "total_test_loss = 0\n",
        "show_plot = False\n",
        "save_plot = False\n",
        "test_step = 500\n",
        "verbose = False\n",
        "save_step = 1\n",
        "\n",
        "# Vars for testing algorithm\n",
        "#train_set = train_songs[0:20]\n",
        "#train_set_size = len(train_set)\n",
        "#test_set = test_songs[0:5]\n",
        "#test_set_size = len(test_set)\n",
        "#test_step = 5\n",
        "\n",
        "#crea aquí las funciones test(), train() y save_params()\n",
        "def test():\n",
        "    print('\\nTesting:')\n",
        "    total_test_loss = 0\n",
        "\n",
        "    bar = progressbar.ProgressBar(maxval=test_set_size, redirect_stdout=False)\n",
        "    for i, test_song in enumerate(test_set):\n",
        "        X_test = test_song[:-1]\n",
        "        X_test = np.array(X_test)\n",
        "        Y_test = np_utils.to_categorical(test_song[1:], num_classes=num_chords)\n",
        "        loss = model.evaluate(X_test, Y_test, batch_size=batch_size, verbose=verbose)\n",
        "        model.reset_states()\n",
        "        total_test_loss += loss\n",
        "        bar.update(i+1)\n",
        "    total_test_loss_array.append(total_test_loss/test_set_size)\n",
        "    print('\\nTotal test loss: ', total_test_loss/test_set_size)\n",
        "    print('-'*50)\n",
        "    plt.plot(total_test_loss_array, 'b-', label='test loss')\n",
        "    plt.plot(total_train_loss_array, 'r-', label='train loss')\n",
        "#    plt.legend()\n",
        "    plt.ylabel(model_path)\n",
        "#    plt.axis([0, 50, 3, 5])\n",
        "    plt.grid()\n",
        "    if show_plot: plt.show()\n",
        "    if save_plot: plt.savefig(model_path+'plot.png')\n",
        "    pickle.dump(total_test_loss_array,open(model_path+'total_test_loss_array.pickle', 'wb'))\n",
        "    pickle.dump(total_train_loss_array,open(model_path+'total_train_loss_array.pickle', 'wb'))\n",
        "    pickle.dump(epoch_array,open(model_path+'epoch_array.pickle', 'wb'))\n",
        "\n",
        "def train():\n",
        "    print('training model...')\n",
        "    total_train_loss = 0\n",
        "    for e in range(1, epochs+1):\n",
        "        print('Epoch ', e, 'of ', epochs, 'Epochs\\nTraining:')\n",
        "        if shuffle_train_set:\n",
        "            shuffle(train_set)\n",
        "        bar = progressbar.ProgressBar(maxval=train_set_size)\n",
        "        for i, song in enumerate(train_set):\n",
        "            # bar.start()\n",
        "            X = song[:-1]\n",
        "            X = np.array(X)\n",
        "            Y = np_utils.to_categorical(song[1:], num_classes=num_chords)\n",
        "            hist = model.fit(X, Y, batch_size=batch_size, shuffle=False, verbose=verbose)\n",
        "            model.reset_states()\n",
        "            bar.update(i+1)\n",
        "#            print(hist.history)\n",
        "            total_train_loss += hist.history['loss'][0]\n",
        "            if (i+1)%test_step is 0:\n",
        "                total_train_loss = total_train_loss/test_step\n",
        "                total_train_loss_array.append(total_train_loss)\n",
        "                epoch_array.append(e)\n",
        "                test()\n",
        "                total_train_loss = 0\n",
        "    \n",
        "        if e%save_step is 0:\n",
        "            print('saving model')\n",
        "            model_save_path = model_path + 'model_' + 'Epoch' + str(e) + '_' + str(i+1) + model_filetype\n",
        "            model.save(model_save_path)\n",
        "\n",
        "def save_params():\n",
        "    with open(model_path + 'params.txt', \"w\") as text_file:\n",
        "        text_file.write(\"epochs: %s\" % epochs + '\\n')\n",
        "        text_file.write(\"train_set_size: %s\" % train_set_size + '\\n')\n",
        "        text_file.write(\"test_set_size: %s\" % test_set_size + '\\n')\n",
        "        text_file.write(\"lstm_size: %s\" % lstm_size + '\\n')\n",
        "        text_file.write(\"embedding_dim: %s\" % chord_embedding_dim + '\\n')\n",
        "        text_file.write(\"learning_rate: %s\" % learning_rate + '\\n')\n",
        "        #text_file.write(\"save_step: %s\" % save_step + '\\n')\n",
        "        text_file.write(\"shuffle_train_set: %s\" % shuffle_train_set + '\\n')\n",
        "        text_file.write(\"test_step: %s\" % test_step + '\\n')\n",
        "        text_file.write(\"bidirectional: %s\" % bidirectional + '\\n')\n",
        "        text_file.write(\"num_chords: %s\" % num_chords + '\\n')\n",
        "        text_file.write(\"chord_n: %s\" % chord_n + '\\n')"
      ],
      "metadata": {
        "id": "IDevHmNuCzGx"
      },
      "execution_count": 37,
      "outputs": []
    },
    {
      "cell_type": "markdown",
      "source": [
        "2.3.2 Responde las siguientes preguntas:\n",
        "*  ¿Qué representa cada elemento de *X* en la función de *train()*?\n",
        "*  ¿Qué se está usando como *label* para cada elemento de *X*? \n",
        "*  Justifica el uso de *categorical_crossentropy* como función de loss\n",
        "*  ¿Qué crees que está aprendiendo la red?\n",
        "\n",
        "\n",
        "\n",
        "\n",
        " "
      ],
      "metadata": {
        "id": "P7byp9y1_00y"
      }
    },
    {
      "cell_type": "markdown",
      "source": [
        "\n",
        "\n",
        "*   Cada elemento X en la función de *train()* representa un acorde\n",
        "*   Para cada elemento de X, se está usando como *label* el identificador del acorde, de los que se han escogido los 50 más repetidos y al resto se le asigna una etiqueta de *unkwown*\n",
        "*   Nos encontramos ante un problema de clasificación donde se pretende predecir qué tipo de acorde será el siguiente de la partitura, por tanto, la función de pérdida debe ser *categorica_crossentropy*. \n",
        "*   La red está aprendiendo a predecir cuáles serán los siguientes acordes a tocar.\n",
        "\n"
      ],
      "metadata": {
        "id": "SjoEPKL7Cp9Z"
      }
    },
    {
      "cell_type": "markdown",
      "source": [
        "2.3.3 Entrena la red usando las funciones anteriores"
      ],
      "metadata": {
        "id": "Jzu-37C4EKom"
      }
    },
    {
      "cell_type": "code",
      "source": [
        "save_params()\n",
        "train()"
      ],
      "metadata": {
        "id": "gS16GEJaCrLH",
        "colab": {
          "base_uri": "https://localhost:8080/"
        },
        "outputId": "e760fab8-63c9-4a26-82b8-1f55f05fd717"
      },
      "execution_count": null,
      "outputs": [
        {
          "output_type": "stream",
          "name": "stdout",
          "text": [
            "training model...\n",
            "Epoch  1 of  10 Epochs\n",
            "Training:\n"
          ]
        },
        {
          "output_type": "stream",
          "name": "stderr",
          "text": [
            " 25% (500 of 2000) |#####                | Elapsed Time: 0:03:47 ETA:   0:09:53"
          ]
        },
        {
          "output_type": "stream",
          "name": "stdout",
          "text": [
            "\n",
            "Testing:\n"
          ]
        },
        {
          "output_type": "stream",
          "name": "stderr",
          "text": [
            "100% (500 of 500) |######################| Elapsed Time: 0:02:44 ETA:  00:00:00"
          ]
        },
        {
          "output_type": "stream",
          "name": "stdout",
          "text": [
            "\n",
            "Total test loss:  3.180297596693039\n",
            "--------------------------------------------------\n"
          ]
        },
        {
          "output_type": "stream",
          "name": "stderr",
          "text": [
            " 50% (1000 of 2000) |##########          | Elapsed Time: 0:10:24 ETA:   0:08:31"
          ]
        },
        {
          "output_type": "stream",
          "name": "stdout",
          "text": [
            "\n",
            "Testing:\n"
          ]
        },
        {
          "output_type": "stream",
          "name": "stderr",
          "text": [
            "100% (500 of 500) |######################| Elapsed Time: 0:02:42 ETA:  00:00:00"
          ]
        },
        {
          "output_type": "stream",
          "name": "stdout",
          "text": [
            "\n",
            "Total test loss:  3.123581279039383\n",
            "--------------------------------------------------\n"
          ]
        },
        {
          "output_type": "stream",
          "name": "stderr",
          "text": [
            " 75% (1500 of 2000) |###############     | Elapsed Time: 0:16:59 ETA:   0:04:45"
          ]
        },
        {
          "output_type": "stream",
          "name": "stdout",
          "text": [
            "\n",
            "Testing:\n"
          ]
        },
        {
          "output_type": "stream",
          "name": "stderr",
          "text": [
            "100% (500 of 500) |######################| Elapsed Time: 0:02:41 ETA:  00:00:00"
          ]
        },
        {
          "output_type": "stream",
          "name": "stdout",
          "text": [
            "\n",
            "Total test loss:  3.086948522090912\n",
            "--------------------------------------------------\n"
          ]
        },
        {
          "output_type": "stream",
          "name": "stderr",
          "text": [
            "100% (2000 of 2000) |####################| Elapsed Time: 0:23:29 ETA:  00:00:00"
          ]
        },
        {
          "output_type": "stream",
          "name": "stdout",
          "text": [
            "\n",
            "Testing:\n"
          ]
        },
        {
          "output_type": "stream",
          "name": "stderr",
          "text": [
            "100% (500 of 500) |######################| Elapsed Time: 0:02:45 ETA:  00:00:00"
          ]
        },
        {
          "output_type": "stream",
          "name": "stdout",
          "text": [
            "\n",
            "Total test loss:  3.074198194026947\n",
            "--------------------------------------------------\n",
            "saving model\n"
          ]
        },
        {
          "output_type": "stream",
          "name": "stderr",
          "text": [
            "WARNING:absl:Found untraced functions such as lstm_cell_layer_call_fn, lstm_cell_layer_call_and_return_conditional_losses while saving (showing 2 of 2). These functions will not be directly callable after loading.\n"
          ]
        },
        {
          "output_type": "stream",
          "name": "stdout",
          "text": [
            "INFO:tensorflow:Assets written to: models/chords/6588-Shifted_True_Lr_1e-05_EmDim_10_opt_<keras.optimizer_v2.adam.Adam object at 0x7fb5f73ae450>_bi_False_lstmsize_128_trainsize_2000_testsize_500_samples_per_bar8/model_Epoch1_2000.pickle/assets\n"
          ]
        },
        {
          "output_type": "stream",
          "name": "stderr",
          "text": [
            "INFO:tensorflow:Assets written to: models/chords/6588-Shifted_True_Lr_1e-05_EmDim_10_opt_<keras.optimizer_v2.adam.Adam object at 0x7fb5f73ae450>_bi_False_lstmsize_128_trainsize_2000_testsize_500_samples_per_bar8/model_Epoch1_2000.pickle/assets\n",
            "WARNING:absl:<keras.layers.recurrent.LSTMCell object at 0x7fb5f0790a50> has the same name 'LSTMCell' as a built-in Keras object. Consider renaming <class 'keras.layers.recurrent.LSTMCell'> to avoid naming conflicts when loading with `tf.keras.models.load_model`. If renaming is not possible, pass the object in the `custom_objects` parameter of the load function.\n"
          ]
        },
        {
          "output_type": "stream",
          "name": "stdout",
          "text": [
            "Epoch  2 of  10 Epochs\n",
            "Training:\n"
          ]
        },
        {
          "output_type": "stream",
          "name": "stderr",
          "text": [
            " 25% (500 of 2000) |#####                | Elapsed Time: 0:03:46 ETA:   0:09:15"
          ]
        },
        {
          "output_type": "stream",
          "name": "stdout",
          "text": [
            "\n",
            "Testing:\n"
          ]
        },
        {
          "output_type": "stream",
          "name": "stderr",
          "text": [
            "100% (500 of 500) |######################| Elapsed Time: 0:02:43 ETA:  00:00:00"
          ]
        },
        {
          "output_type": "stream",
          "name": "stdout",
          "text": [
            "\n",
            "Total test loss:  3.0548394222259523\n",
            "--------------------------------------------------\n"
          ]
        },
        {
          "output_type": "stream",
          "name": "stderr",
          "text": [
            " 50% (1000 of 2000) |##########          | Elapsed Time: 0:10:21 ETA:   0:08:49"
          ]
        },
        {
          "output_type": "stream",
          "name": "stdout",
          "text": [
            "\n",
            "Testing:\n"
          ]
        },
        {
          "output_type": "stream",
          "name": "stderr",
          "text": [
            "100% (500 of 500) |######################| Elapsed Time: 0:02:45 ETA:  00:00:00"
          ]
        },
        {
          "output_type": "stream",
          "name": "stdout",
          "text": [
            "\n",
            "Total test loss:  3.036005690097809\n",
            "--------------------------------------------------\n"
          ]
        },
        {
          "output_type": "stream",
          "name": "stderr",
          "text": [
            " 75% (1500 of 2000) |###############     | Elapsed Time: 0:16:57 ETA:   0:04:10"
          ]
        },
        {
          "output_type": "stream",
          "name": "stdout",
          "text": [
            "\n",
            "Testing:\n"
          ]
        },
        {
          "output_type": "stream",
          "name": "stderr",
          "text": [
            "100% (500 of 500) |######################| Elapsed Time: 0:02:41 ETA:  00:00:00"
          ]
        },
        {
          "output_type": "stream",
          "name": "stdout",
          "text": [
            "\n",
            "Total test loss:  3.0331657972335817\n",
            "--------------------------------------------------\n"
          ]
        },
        {
          "output_type": "stream",
          "name": "stderr",
          "text": [
            "100% (2000 of 2000) |####################| Elapsed Time: 0:23:34 ETA:  00:00:00"
          ]
        },
        {
          "output_type": "stream",
          "name": "stdout",
          "text": [
            "\n",
            "Testing:\n"
          ]
        },
        {
          "output_type": "stream",
          "name": "stderr",
          "text": [
            "100% (500 of 500) |######################| Elapsed Time: 0:02:41 ETA:  00:00:00"
          ]
        },
        {
          "output_type": "stream",
          "name": "stdout",
          "text": [
            "\n",
            "Total test loss:  3.021654367208481\n",
            "--------------------------------------------------\n",
            "saving model\n"
          ]
        },
        {
          "output_type": "stream",
          "name": "stderr",
          "text": [
            "WARNING:absl:Found untraced functions such as lstm_cell_layer_call_fn, lstm_cell_layer_call_and_return_conditional_losses while saving (showing 2 of 2). These functions will not be directly callable after loading.\n"
          ]
        },
        {
          "output_type": "stream",
          "name": "stdout",
          "text": [
            "INFO:tensorflow:Assets written to: models/chords/6588-Shifted_True_Lr_1e-05_EmDim_10_opt_<keras.optimizer_v2.adam.Adam object at 0x7fb5f73ae450>_bi_False_lstmsize_128_trainsize_2000_testsize_500_samples_per_bar8/model_Epoch2_2000.pickle/assets\n"
          ]
        },
        {
          "output_type": "stream",
          "name": "stderr",
          "text": [
            "INFO:tensorflow:Assets written to: models/chords/6588-Shifted_True_Lr_1e-05_EmDim_10_opt_<keras.optimizer_v2.adam.Adam object at 0x7fb5f73ae450>_bi_False_lstmsize_128_trainsize_2000_testsize_500_samples_per_bar8/model_Epoch2_2000.pickle/assets\n",
            "WARNING:absl:<keras.layers.recurrent.LSTMCell object at 0x7fb5f0790a50> has the same name 'LSTMCell' as a built-in Keras object. Consider renaming <class 'keras.layers.recurrent.LSTMCell'> to avoid naming conflicts when loading with `tf.keras.models.load_model`. If renaming is not possible, pass the object in the `custom_objects` parameter of the load function.\n"
          ]
        },
        {
          "output_type": "stream",
          "name": "stdout",
          "text": [
            "Epoch  3 of  10 Epochs\n",
            "Training:\n"
          ]
        },
        {
          "output_type": "stream",
          "name": "stderr",
          "text": [
            " 25% (500 of 2000) |#####                | Elapsed Time: 0:03:48 ETA:   0:10:44"
          ]
        },
        {
          "output_type": "stream",
          "name": "stdout",
          "text": [
            "\n",
            "Testing:\n"
          ]
        },
        {
          "output_type": "stream",
          "name": "stderr",
          "text": [
            "100% (500 of 500) |######################| Elapsed Time: 0:02:44 ETA:  00:00:00"
          ]
        },
        {
          "output_type": "stream",
          "name": "stdout",
          "text": [
            "\n",
            "Total test loss:  3.0207109572887423\n",
            "--------------------------------------------------\n"
          ]
        },
        {
          "output_type": "stream",
          "name": "stderr",
          "text": [
            " 50% (1000 of 2000) |##########          | Elapsed Time: 0:10:23 ETA:   0:10:04"
          ]
        },
        {
          "output_type": "stream",
          "name": "stdout",
          "text": [
            "\n",
            "Testing:\n"
          ]
        },
        {
          "output_type": "stream",
          "name": "stderr",
          "text": [
            "100% (500 of 500) |######################| Elapsed Time: 0:02:44 ETA:  00:00:00"
          ]
        },
        {
          "output_type": "stream",
          "name": "stdout",
          "text": [
            "\n",
            "Total test loss:  3.0159135105609893\n",
            "--------------------------------------------------\n"
          ]
        },
        {
          "output_type": "stream",
          "name": "stderr",
          "text": [
            " 70% (1410 of 2000) |##############      | Elapsed Time: 0:16:14 ETA:   0:05:52"
          ]
        }
      ]
    },
    {
      "cell_type": "markdown",
      "source": [
        "##2.4 Comparación de modelos [2 pts]"
      ],
      "metadata": {
        "id": "CkpRym4eFnN9"
      }
    },
    {
      "cell_type": "markdown",
      "source": [
        "En este último paso compararemos diferentes modelos. En la carpeta *models/chords* encontrarás los datos (en un formato similar al generado anteriormente) del entrenamiento de modelos similares con otros parámetros:\n",
        "\n",
        "1.   carpeta: 2717-Shifted_True_...\n",
        "2.   carpeta: 5102-Shifted_True_...\n",
        "\n"
      ],
      "metadata": {
        "id": "FhwHC5ZJF0YW"
      }
    },
    {
      "cell_type": "markdown",
      "source": [
        "2.4.1 Compara los 3 modelos: grafica las funciones de loss para train y test de cada modelo.\n",
        "\n",
        "*   Indica los parámetros de cada uno de los 3 modelos (el que habéis entrenado y los 2 que os hemos dado)\n",
        "*   ¿Qué set de parámetros ha dado la mejor performance?\n",
        "*   ¿Se aprecia overfitting en alguno de los modelos? Justifica tu respuesta"
      ],
      "metadata": {
        "id": "ab531tCvGhI3"
      }
    },
    {
      "cell_type": "code",
      "source": [
        ""
      ],
      "metadata": {
        "id": "BEsa5EA2C-jQ"
      },
      "execution_count": null,
      "outputs": []
    },
    {
      "cell_type": "markdown",
      "source": [
        "# 3 Análisis de la capa de embedding [2 pts]"
      ],
      "metadata": {
        "id": "kEWwrLqnIhlz"
      }
    },
    {
      "cell_type": "markdown",
      "source": [
        "En esta sección recrearemos la figura 8 del artículo con la red que hemos entrenado y la que mejor performance nos ha dado en la comparación. "
      ],
      "metadata": {
        "id": "H01zsudCIuTg"
      }
    },
    {
      "cell_type": "code",
      "source": [
        "from keras.models import load_model\n",
        "import keras\n",
        "from keras import backend as K"
      ],
      "metadata": {
        "id": "jn_xE9QDJoMz"
      },
      "execution_count": null,
      "outputs": []
    },
    {
      "cell_type": "markdown",
      "source": [
        "## 3.1 Carga de modelos entrenados y generación de embeddings [1 pts]"
      ],
      "metadata": {
        "id": "p0wEHRWAJ-ni"
      }
    },
    {
      "cell_type": "markdown",
      "source": [
        "3.1.1 Utiliza el *load_model* de **keras** para cargar:\n",
        "*   el modelo que hemos entrenado: *my_model*\n",
        "*   el modelo con mejor performance: *bp_model*\n"
      ],
      "metadata": {
        "id": "GVFaCsSrKHLj"
      }
    },
    {
      "cell_type": "code",
      "source": [
        ""
      ],
      "metadata": {
        "id": "j58DCb2YDBkJ"
      },
      "execution_count": null,
      "outputs": []
    },
    {
      "cell_type": "markdown",
      "source": [
        "3.1.2 Ahora crearemos, para cada modelo, un nuevo modelo para los embedding. Para hacer esto, deberás crear un nuevo modelo cuya entrada sea igual a la entrada de los modelos originales y la salida sea el layer \"embedding\". Esto lo puedes hacer usando la función *get_layer()* del modelo.\n"
      ],
      "metadata": {
        "id": "LvTrSPKTLxUO"
      }
    },
    {
      "cell_type": "code",
      "source": [
        ""
      ],
      "metadata": {
        "id": "1Q5vhuS1DCYc"
      },
      "execution_count": null,
      "outputs": []
    },
    {
      "cell_type": "markdown",
      "source": [
        "3.1.3 El modelo de embedding recibe un acorde y devuelve un vector de 10 dimensiones con el embedding para cada acorde. Calcula estos vectores con cada uno de los modelos de embedding"
      ],
      "metadata": {
        "id": "GVXc-FhGNfoP"
      }
    },
    {
      "cell_type": "code",
      "source": [
        ""
      ],
      "metadata": {
        "id": "MNL05sWvDDZw"
      },
      "execution_count": null,
      "outputs": []
    },
    {
      "cell_type": "markdown",
      "source": [
        "3.1.4 Aplica un squeeze para eliminar los ejes de dimensión 1. El resultado de este squeeze debería ser (50,10)"
      ],
      "metadata": {
        "id": "D33AZTgmO9u1"
      }
    },
    {
      "cell_type": "code",
      "source": [
        ""
      ],
      "metadata": {
        "id": "S-keKk13DEXK"
      },
      "execution_count": null,
      "outputs": []
    },
    {
      "cell_type": "markdown",
      "source": [
        "## 3.2 Análisis PCA [1 pts]\n"
      ],
      "metadata": {
        "id": "_hQcmzeIPtrG"
      }
    },
    {
      "cell_type": "markdown",
      "source": [
        "Para acabar con nuestro análisis de los embeddings, vamos a realizar un proceso de PCA para reducir las dimensiones de los vectores resultantes y poder graficarlos en 2D."
      ],
      "metadata": {
        "id": "2vMTJ8nRbmMe"
      }
    },
    {
      "cell_type": "code",
      "source": [
        "from sklearn.preprocessing import StandardScaler\n",
        "from sklearn.decomposition import PCA"
      ],
      "metadata": {
        "id": "l9ROxo-lP-OY"
      },
      "execution_count": null,
      "outputs": []
    },
    {
      "cell_type": "markdown",
      "source": [
        "3.2.1 Escalar los vectores y aplicar PCA para reducir a 2 las dimensiones"
      ],
      "metadata": {
        "id": "0qcipt5oP74r"
      }
    },
    {
      "cell_type": "code",
      "source": [
        ""
      ],
      "metadata": {
        "id": "1co2NuRtF1BU"
      },
      "execution_count": null,
      "outputs": []
    },
    {
      "cell_type": "markdown",
      "source": [
        "3.2.2 Grafica para ambos embeddings los vectores en un scatterplot. Añadele anotaciones con las notas del acorde y comenta el resultado: ¿Observas el efecto word2vect en las gráficas?"
      ],
      "metadata": {
        "id": "Pj4FLd8DaLsF"
      }
    },
    {
      "cell_type": "code",
      "source": [
        ""
      ],
      "metadata": {
        "id": "WSE2OSp9F2Va"
      },
      "execution_count": null,
      "outputs": []
    },
    {
      "cell_type": "markdown",
      "source": [
        "Usa esta función para obtener un índice para los acordes y sus notas"
      ],
      "metadata": {
        "id": "lJDmLqpebnkI"
      }
    },
    {
      "cell_type": "code",
      "source": [
        "def get_chord_dict():\n",
        "    chord_to_index = pickle.load(open(dict_path + chord_dict_name, 'rb'))\n",
        "    index_to_chord = pickle.load(open(dict_path + index_dict_name, 'rb'))\n",
        "    return chord_to_index, index_to_chord\n",
        "\n",
        "chord_to_index, idx_2_chord = get_chord_dict()"
      ],
      "metadata": {
        "id": "ROgMjNOmbbvK"
      },
      "execution_count": null,
      "outputs": []
    },
    {
      "cell_type": "markdown",
      "source": [
        "3.2.3 Crea una función para calcular todas las distancias entre los primero 20 acordes. Luego haz una lista con las 10 distancias mínimas para ambos modelos. ¿Están relacionados estos acordes con distancias mínimas?"
      ],
      "metadata": {
        "id": "4TLRoLomVjzP"
      }
    },
    {
      "cell_type": "code",
      "source": [
        ""
      ],
      "metadata": {
        "id": "FLHzUPP9F5UJ"
      },
      "execution_count": null,
      "outputs": []
    },
    {
      "cell_type": "markdown",
      "source": [
        "# 4. Rueda de 5tas (Bonus Track) [0.5 pts]"
      ],
      "metadata": {
        "id": "PKXh0-X3mg70"
      }
    },
    {
      "cell_type": "markdown",
      "source": [
        "En este bonus track, y usando lo mismo que has usado para los apartados anteriores, podrás dibujar la rueda de quintas con datos entrenados sobre la misma base de datos, pero no hacer el shifteo de los acordes."
      ],
      "metadata": {
        "id": "m3Ymmh_imljH"
      }
    },
    {
      "cell_type": "markdown",
      "source": [
        "Usa los datos que encontrarás en la carpeta *models/chords/9671-Shifted_False...* para repetir el proceso del análisis de PCA"
      ],
      "metadata": {
        "id": "OyesH52p0QDZ"
      }
    },
    {
      "cell_type": "markdown",
      "source": [
        "Una vez tienes los vectores, llama a las siguientes funciones para dibujar la rueda de quintas"
      ],
      "metadata": {
        "id": "ejP3t2sautBj"
      }
    },
    {
      "cell_type": "code",
      "source": [
        "def get_chord_dict_no_shifted():\n",
        "    chord_to_index = pickle.load(open('data/chord_dict.pickle', 'rb'))\n",
        "    index_to_chord = pickle.load(open('data/index_dict.pickle', 'rb'))\n",
        "    return chord_to_index, index_to_chord\n",
        "\n",
        "chord_to_index_, idx_2_chord_ = get_chord_dict_no_shifted()"
      ],
      "metadata": {
        "id": "_7ZU_OXZnxqX"
      },
      "execution_count": null,
      "outputs": []
    },
    {
      "cell_type": "code",
      "source": [
        "ddd={tuple((0,4,7)):'C',\n",
        "tuple((1,5,8)):'C#',\n",
        "tuple((2,6,9)):'D',\n",
        "tuple((3,7,10)):'D#',\n",
        "tuple((4,8,11)):'E',\n",
        "tuple((0,5,9)):'F',\n",
        "tuple((1,6,10)):'F#',\n",
        "tuple((2,7,11)):'G',\n",
        "tuple((0,3,8)):'G#',\n",
        "tuple((1,4,9)):'A',\n",
        "tuple((2,5,10)):'A#',\n",
        "tuple((3,6,11)):'B'}\n",
        "\n",
        "\n",
        "def plot_5th_circle(X_chords_2d):\n",
        "  \n",
        "  fig, ax = plt.subplots()\n",
        "  fig.set_size_inches(8, 6)\n",
        "\n",
        "  plt.tick_params(labelsize=12)\n",
        "  \n",
        "  style = dict(size=12, color='black')\n",
        "\n",
        "  for i in range(0,len(idx_2_chord_)):\n",
        "    try:\n",
        "      ax.text(-X_chords_2d[i,0]-0.32,X_chords_2d[i,1]+0.11, ddd[idx_2_chord_[i]],**style)\n",
        "      ax.scatter(-X_chords_2d[i,0],X_chords_2d[i,1], c=\"blue\", marker=\"*\")\n",
        "      \n",
        "    except:\n",
        "      pass\n",
        "\n",
        "  plt.show()"
      ],
      "metadata": {
        "id": "oTiU7UWtpnL2"
      },
      "execution_count": null,
      "outputs": []
    },
    {
      "cell_type": "code",
      "source": [
        "plot_5th_circle(my_embedd_pca) #pasa los vectores luego del análisis de PCA"
      ],
      "metadata": {
        "id": "mGBGU7LruOes"
      },
      "execution_count": null,
      "outputs": []
    }
  ]
}